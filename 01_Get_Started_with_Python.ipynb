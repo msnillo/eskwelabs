{
 "cells": [
  {
   "cell_type": "markdown",
   "metadata": {},
   "source": [
    "# Data Science - Intro to Python\n",
    "\n",
    "According to Wikipedia, Python \"is an interpreted high-level programming language for general-purpose programming.\" It is multi-paradigm, dynamic, expressive, and pragmatic.\n",
    "\n",
    "In other words, it's a useful way to talk with computers and get them to do what you want. It's particularly useful in Data Science, as much of the best math and statistics code in the world is written in/for Python."
   ]
  },
  {
   "cell_type": "markdown",
   "metadata": {},
   "source": [
    "# What is Python?\n",
    "## Is it a big calculator?"
   ]
  },
  {
   "cell_type": "code",
   "execution_count": 1,
   "metadata": {},
   "outputs": [
    {
     "data": {
      "text/plain": [
       "2"
      ]
     },
     "execution_count": 1,
     "metadata": {},
     "output_type": "execute_result"
    }
   ],
   "source": [
    "1 + 1"
   ]
  },
  {
   "cell_type": "code",
   "execution_count": 2,
   "metadata": {},
   "outputs": [
    {
     "data": {
      "text/plain": [
       "0.0"
      ]
     },
     "execution_count": 2,
     "metadata": {},
     "output_type": "execute_result"
    }
   ],
   "source": [
    "from math import e, pi\n",
    "# Euler's identity, e^(i*pi) + 1 = 0\n",
    "(e**(1j * pi) + 1).real"
   ]
  },
  {
   "cell_type": "code",
   "execution_count": 3,
   "metadata": {},
   "outputs": [
    {
     "name": "stdout",
     "output_type": "stream",
     "text": [
      "237845637824623789456897234598672038946723089467239048672309468723408967\n",
      "2.3e+79\n"
     ]
    }
   ],
   "source": [
    "# Big numbers!\n",
    "print(237845637824623789456897234598672038946723089467239048672309468723408967)\n",
    "print(2.3e79)"
   ]
  },
  {
   "cell_type": "code",
   "execution_count": 5,
   "metadata": {},
   "outputs": [
    {
     "name": "stdout",
     "output_type": "stream",
     "text": [
      "1.5\n",
      "1\n",
      "1.6666666666666667\n",
      "1\n"
     ]
    }
   ],
   "source": [
    "# Floats versus ints (more later)\n",
    "print(1.5)  # float\n",
    "print(1)    # int\n",
    "print(5 / 3)\n",
    "print(5 // 3)"
   ]
  },
  {
   "cell_type": "markdown",
   "metadata": {},
   "source": [
    "## Is it a way to process text?"
   ]
  },
  {
   "cell_type": "code",
   "execution_count": 6,
   "metadata": {},
   "outputs": [
    {
     "name": "stdout",
     "output_type": "stream",
     "text": [
      "Meet me at dusk\n"
     ]
    }
   ],
   "source": [
    "from re import sub\n",
    "\n",
    "message = 'Meet me at dawn'\n",
    "message_altered = sub(r'dawn', 'dusk', message)\n",
    "print(message_altered)"
   ]
  },
  {
   "cell_type": "markdown",
   "metadata": {},
   "source": [
    "## Is it for drawing pretty pictures?"
   ]
  },
  {
   "cell_type": "code",
   "execution_count": 8,
   "metadata": {},
   "outputs": [
    {
     "data": {
      "image/png": "[encoded data removed]",
      "text/plain": [
       "<Figure size 432x288 with 1 Axes>"
      ]
     },
     "metadata": {
      "needs_background": "light"
     },
     "output_type": "display_data"
    }
   ],
   "source": [
    "# From: https://matplotlib.org/examples/pylab_examples/simple_plot.html\n",
    "import matplotlib.pyplot as plt\n",
    "import numpy as np\n",
    "\n",
    "t = np.arange(0.0, 2.0, 0.01)\n",
    "s = 1 + np.sin(2*np.pi*t)\n",
    "plt.plot(t, s)\n",
    "\n",
    "plt.xlabel('time (s)')\n",
    "plt.ylabel('voltage (mV)')\n",
    "plt.title('A nice sine wave')\n",
    "plt.grid(True)\n",
    "# plt.savefig('test.png')\n",
    "plt.show()"
   ]
  },
  {
   "cell_type": "markdown",
   "metadata": {},
   "source": [
    "## Or for getting data over a network?"
   ]
  },
  {
   "cell_type": "code",
   "execution_count": 9,
   "metadata": {},
   "outputs": [
    {
     "data": {
      "text/plain": [
       "[b'<!doctype html>\\n',\n",
       " b'<html>\\n',\n",
       " b'<head>\\n',\n",
       " b'    <title>Example Domain</title>\\n',\n",
       " b'\\n',\n",
       " b'    <meta charset=\"utf-8\" />\\n',\n",
       " b'    <meta http-equiv=\"Content-type\" content=\"text/html; charset=utf-8\" />\\n',\n",
       " b'    <meta name=\"viewport\" content=\"width=device-width, initial-scale=1\" />\\n',\n",
       " b'    <style type=\"text/css\">\\n',\n",
       " b'    body {\\n',\n",
       " b'        background-color: #f0f0f2;\\n',\n",
       " b'        margin: 0;\\n',\n",
       " b'        padding: 0;\\n',\n",
       " b'        font-family: \"Open Sans\", \"Helvetica Neue\", Helvetica, Arial, sans-serif;\\n',\n",
       " b'        \\n',\n",
       " b'    }\\n',\n",
       " b'    div {\\n',\n",
       " b'        width: 600px;\\n',\n",
       " b'        margin: 5em auto;\\n',\n",
       " b'        padding: 50px;\\n',\n",
       " b'        background-color: #fff;\\n',\n",
       " b'        border-radius: 1em;\\n',\n",
       " b'    }\\n',\n",
       " b'    a:link, a:visited {\\n',\n",
       " b'        color: #38488f;\\n',\n",
       " b'        text-decoration: none;\\n',\n",
       " b'    }\\n',\n",
       " b'    @media (max-width: 700px) {\\n',\n",
       " b'        body {\\n',\n",
       " b'            background-color: #fff;\\n',\n",
       " b'        }\\n',\n",
       " b'        div {\\n',\n",
       " b'            width: auto;\\n',\n",
       " b'            margin: 0 auto;\\n',\n",
       " b'            border-radius: 0;\\n',\n",
       " b'            padding: 1em;\\n',\n",
       " b'        }\\n',\n",
       " b'    }\\n',\n",
       " b'    </style>    \\n',\n",
       " b'</head>\\n',\n",
       " b'\\n',\n",
       " b'<body>\\n',\n",
       " b'<div>\\n',\n",
       " b'    <h1>Example Domain</h1>\\n',\n",
       " b'    <p>This domain is established to be used for illustrative examples in documents. You may use this\\n',\n",
       " b'    domain in examples without prior coordination or asking for permission.</p>\\n',\n",
       " b'    <p><a href=\"http://www.iana.org/domains/example\">More information...</a></p>\\n',\n",
       " b'</div>\\n',\n",
       " b'</body>\\n',\n",
       " b'</html>\\n']"
      ]
     },
     "execution_count": 9,
     "metadata": {},
     "output_type": "execute_result"
    }
   ],
   "source": [
    "from urllib import request\n",
    "example = request.urlopen('http://www.example.org')\n",
    "example.readlines()"
   ]
  },
  {
   "cell_type": "markdown",
   "metadata": {},
   "source": [
    "# Python Basics\n",
    "## Literal values\n",
    "This is just a taste - for the full firehose, see: https://docs.python.org/3/reference/lexical_analysis.html#literals"
   ]
  },
  {
   "cell_type": "code",
   "execution_count": 10,
   "metadata": {},
   "outputs": [
    {
     "name": "stdout",
     "output_type": "stream",
     "text": [
      "€\n",
      "3\n"
     ]
    },
    {
     "ename": "ValueError",
     "evalue": "invalid literal for int() with base 10: 'cat'",
     "output_type": "error",
     "traceback": [
      "\u001b[1;31m---------------------------------------------------------------------------\u001b[0m",
      "\u001b[1;31mValueError\u001b[0m                                Traceback (most recent call last)",
      "\u001b[1;32m<ipython-input-10-99a411b38222>\u001b[0m in \u001b[0;36m<module>\u001b[1;34m\u001b[0m\n\u001b[0;32m      8\u001b[0m \u001b[0mprint\u001b[0m\u001b[1;33m(\u001b[0m\u001b[1;34mb'\\xE2\\x82\\xAC'\u001b[0m\u001b[1;33m.\u001b[0m\u001b[0mdecode\u001b[0m\u001b[1;33m(\u001b[0m\u001b[1;34m'UTF-8'\u001b[0m\u001b[1;33m)\u001b[0m\u001b[1;33m)\u001b[0m\u001b[1;33m\u001b[0m\u001b[1;33m\u001b[0m\u001b[0m\n\u001b[0;32m      9\u001b[0m \u001b[0mprint\u001b[0m\u001b[1;33m(\u001b[0m\u001b[0mint\u001b[0m\u001b[1;33m(\u001b[0m\u001b[1;36m3.14\u001b[0m\u001b[1;33m)\u001b[0m\u001b[1;33m)\u001b[0m  \u001b[1;31m# All literals have similar ways to \"cast\" type\u001b[0m\u001b[1;33m\u001b[0m\u001b[1;33m\u001b[0m\u001b[0m\n\u001b[1;32m---> 10\u001b[1;33m \u001b[0mprint\u001b[0m\u001b[1;33m(\u001b[0m\u001b[0mint\u001b[0m\u001b[1;33m(\u001b[0m\u001b[1;34m'cat'\u001b[0m\u001b[1;33m)\u001b[0m\u001b[1;33m)\u001b[0m\u001b[1;33m\u001b[0m\u001b[1;33m\u001b[0m\u001b[0m\n\u001b[0m",
      "\u001b[1;31mValueError\u001b[0m: invalid literal for int() with base 10: 'cat'"
     ]
    }
   ],
   "source": [
    "'Nice human (unicode) text'  # String\n",
    "b'\\xef\\xbb\\xbf'              # Bytes\n",
    "27                           # Integer\n",
    "3.14                         # Float\n",
    "9.8 + 3j                     # Complex\n",
    "True                         # Boolean\n",
    "\n",
    "print(b'\\xE2\\x82\\xAC'.decode('UTF-8'))\n",
    "print(int(3.14))  # All literals have similar ways to \"cast\" type\n",
    "print(int('cat'))"
   ]
  },
  {
   "cell_type": "markdown",
   "metadata": {},
   "source": [
    "## Data structure literals\n",
    "Again just an overview - for more, see: https://docs.python.org/3/tutorial/datastructures.html"
   ]
  },
  {
   "cell_type": "code",
   "execution_count": 11,
   "metadata": {},
   "outputs": [
    {
     "name": "stdout",
     "output_type": "stream",
     "text": [
      "['List', 'comprehensions', 'are', 'cool!']\n"
     ]
    }
   ],
   "source": [
    "[6, 'a', 2.5]                  # List - ordered values\n",
    "('foo', 'bar', 3)              # Tuple - *immutable* ordered values\n",
    "{2, 17}                        # Set - collection of distinct values\n",
    "{'a': 'Awesome', 'b': 'Best'}  # Dictionary - key, value pairs\n",
    "\n",
    "print([word for word in 'List comprehensions are cool!'.split()])"
   ]
  },
  {
   "cell_type": "markdown",
   "metadata": {},
   "source": [
    "<p><a name=\"sections\"></a></p>\n",
    "\n",
    "\n",
    "# Sections\n",
    "\n",
    "- <a href=\"#simple\">Simple Values and Expressions</a>\n",
    "- <a href=\"#lambda\">Lambda Functions and Named Functions</a>\n",
    "- <a href=\"#list\">List</a>\n",
    "  - <a href=\"#funcOnList\">Defining Functions on Lists</a>\n",
    "  - <a href=\"#nList\">Nested Lists</a>\n",
    "- <a href=\"#funcOper\">Functional Operators</a>\n",
    "  - <a href=\"#map\">map</a>\n",
    "  - <a href=\"#bool\">Boolean Functions</a>\n",
    "  - <a href=\"#filter\">filter</a>\n",
    "- <a href=\"#multiList\">Multiple-list Operations\n",
    "- <a href=\"#string\">String operations</a>\n",
    " - <a href=\"#strBasic\">String Basics</a>\n",
    " - <a href=\"#OMC\">Object Method and Class Method Calls</a>\n",
    " - <a href=\"#buildin\">Built-in Strings Operations</a>\n",
    " - <a href=\"#MinMap\">Object Method Calls in map</a>\n",
    " - <a href=\"#case\">Case conversion</a>\n",
    "- <a href=\"#sol\">Solutions</a>"
   ]
  },
  {
   "cell_type": "markdown",
   "metadata": {},
   "source": [
    "# Simple Values and Expressions\n",
    "\n",
    "** Expressions and Values**\n",
    "\n",
    "We demonstrate the simplest expression syntax: Operators +, -, * and / work just like in most other languages; parentheses can be used for grouping."
   ]
  },
  {
   "cell_type": "code",
   "execution_count": 13,
   "metadata": {},
   "outputs": [
    {
     "data": {
      "text/plain": [
       "7"
      ]
     },
     "execution_count": 13,
     "metadata": {},
     "output_type": "execute_result"
    }
   ],
   "source": [
    "# Comment in Python starts with the hash character, # , and extend to the end of the physical line\n",
    "\n",
    "1 + 2 * 3     # * has precedence over +"
   ]
  },
  {
   "cell_type": "code",
   "execution_count": 15,
   "metadata": {},
   "outputs": [
    {
     "data": {
      "text/plain": [
       "9"
      ]
     },
     "execution_count": 15,
     "metadata": {},
     "output_type": "execute_result"
    }
   ],
   "source": [
    "(1 + 2) * 3"
   ]
  },
  {
   "cell_type": "markdown",
   "metadata": {},
   "source": [
    "- iPython notebook shows only the last statement in each cell. To inspect all of them, we may use the `print` **function**:"
   ]
  },
  {
   "cell_type": "code",
   "execution_count": 16,
   "metadata": {},
   "outputs": [
    {
     "name": "stdout",
     "output_type": "stream",
     "text": [
      "7\n",
      "9\n"
     ]
    }
   ],
   "source": [
    "print(1 + 2 * 3)\n",
    "print((1 + 2) * 3)"
   ]
  },
  {
   "cell_type": "markdown",
   "metadata": {},
   "source": [
    "- If you want to check the detail usage of the function, move your cursor into the function and press **Shift+Tab**\n",
    "- This is a cool feature of Jupyter notebook and you can find more of them [here](https://www.dataquest.io/blog/jupyter-notebook-tips-tricks-shortcuts/)"
   ]
  },
  {
   "cell_type": "markdown",
   "metadata": {},
   "source": [
    "- Now try more examples and check the output:"
   ]
  },
  {
   "cell_type": "code",
   "execution_count": 7,
   "metadata": {},
   "outputs": [
    {
     "name": "stdout",
     "output_type": "stream",
     "text": [
      "4.0\n",
      "5\n",
      "5\n",
      "2\n",
      "128\n"
     ]
    }
   ],
   "source": [
    "print(12 / 3)     # int / int -> float\n",
    "print(17 // 3)    # floor division\n",
    "print(17.0 // 3)  # return float if one of the values is float \n",
    "print(17 % 3)     # remainder\n",
    "print(2 ** 7)     # 2 to the power of 7"
   ]
  },
  {
   "cell_type": "markdown",
   "metadata": {},
   "source": [
    "**Syntactic note**:  \n",
    "- Python does not have any special terminating character, so you must enter everything on one line.\n",
    "- According to Python [PEP8](https://www.python.org/dev/peps/pep-0008/), it is recommended to have maximum line length 79 characters.\n",
    "- If the line is too long, you can split it up either by enclosing the expression in parens or by adding a \\ at the end.\n",
    "- **Note**: `\\` must be the very last thing on the line (not even followed by spaces)"
   ]
  },
  {
   "cell_type": "code",
   "execution_count": 18,
   "metadata": {},
   "outputs": [
    {
     "data": {
      "text/plain": [
       "295.44444444444446"
      ]
     },
     "execution_count": 18,
     "metadata": {},
     "output_type": "execute_result"
    }
   ],
   "source": [
    "8 * (7 + 6 * 5) + 4 / 3 ** 2 - 1"
   ]
  },
  {
   "cell_type": "code",
   "execution_count": 19,
   "metadata": {},
   "outputs": [
    {
     "data": {
      "text/plain": [
       "295.44444444444446"
      ]
     },
     "execution_count": 19,
     "metadata": {},
     "output_type": "execute_result"
    }
   ],
   "source": [
    "(8 * (7 + 6 * 5)    # use parentheses\n",
    "          + 4 / 3 ** 2 - 1)"
   ]
  },
  {
   "cell_type": "code",
   "execution_count": 20,
   "metadata": {},
   "outputs": [
    {
     "data": {
      "text/plain": [
       "295.44444444444446"
      ]
     },
     "execution_count": 20,
     "metadata": {},
     "output_type": "execute_result"
    }
   ],
   "source": [
    "8 * (7 + 6 * 5) \\\n",
    "      + 4 / 3 ** 2 - 1     # use backslash"
   ]
  },
  {
   "cell_type": "markdown",
   "metadata": {},
   "source": [
    "**Varaiables**\n",
    "\n",
    "Variables are used to give names to values.  This is to avoid having to re-type an expression, and so the computer doesn’t have to recompute it.  The equal sign \"`=`\" is used to assign a value to a variable."
   ]
  },
  {
   "cell_type": "code",
   "execution_count": 21,
   "metadata": {},
   "outputs": [],
   "source": [
    "tax = 12.5 / 100   # An “assignment statement”\n",
    "price = 100.50"
   ]
  },
  {
   "cell_type": "markdown",
   "metadata": {},
   "source": [
    "iPython notebook print nothing for assignments, as we see from above."
   ]
  },
  {
   "cell_type": "code",
   "execution_count": 22,
   "metadata": {},
   "outputs": [
    {
     "data": {
      "text/plain": [
       "12.5625"
      ]
     },
     "execution_count": 22,
     "metadata": {},
     "output_type": "execute_result"
    }
   ],
   "source": [
    "price * tax"
   ]
  },
  {
   "cell_type": "markdown",
   "metadata": {},
   "source": [
    "Self assignment is a common operation so there is a shorthand notation:\n",
    "\n",
    "- `a=a+b` <----> `a+=b`\n",
    "- `a=a-b` <----> `a-=b`\n",
    "- `a=a*b` <----> `a*=b`\n",
    "- `a=a/b` <----> `a/=b`"
   ]
  },
  {
   "cell_type": "code",
   "execution_count": 23,
   "metadata": {},
   "outputs": [
    {
     "name": "stdout",
     "output_type": "stream",
     "text": [
      "100.5\n",
      "110.5\n"
     ]
    }
   ],
   "source": [
    "print(price)\n",
    "price += 10 # this is same as price = price + 10\n",
    "print(price)"
   ]
  },
  {
   "cell_type": "markdown",
   "metadata": {},
   "source": [
    "**Naming convention**\n",
    "\n",
    "- Variable names in Python should start with letters, and can contain any number of letters, digits, and  _.\n",
    "\n",
    "- Python names are case sensitive.  This applies both to variable names and to function names imported from modules.\n",
    "\n",
    "- By convention, Python variables usually start with lower-case letters.  Variables should have descriptive names; for multi-word names, separate the words by underscores.\n",
    " - Good names:  first_index, random_nums\n",
    " - One-letter names are used in certain circumstances - e.g. i, j, k when used as indexes - but are otherwise frowned upon."
   ]
  },
  {
   "cell_type": "markdown",
   "metadata": {},
   "source": [
    "**Calling functions**\n",
    "\n",
    "- The Python interpreter has a number of functions built into it:"
   ]
  },
  {
   "cell_type": "code",
   "execution_count": 24,
   "metadata": {},
   "outputs": [
    {
     "data": {
      "text/plain": [
       "5.0"
      ]
     },
     "execution_count": 24,
     "metadata": {},
     "output_type": "execute_result"
    }
   ],
   "source": [
    "abs(-5.0)"
   ]
  },
  {
   "cell_type": "markdown",
   "metadata": {},
   "source": [
    "- There is also a way to put definitions in a file that you can load and use. Such a file is called a **module**.\n",
    "\n",
    "- You can use the functions in a module by importing the module and using its name plus the function’s name:"
   ]
  },
  {
   "cell_type": "code",
   "execution_count": 25,
   "metadata": {},
   "outputs": [
    {
     "data": {
      "text/plain": [
       "120"
      ]
     },
     "execution_count": 25,
     "metadata": {},
     "output_type": "execute_result"
    }
   ],
   "source": [
    "import math          # import the math module\n",
    "math.factorial(5)    # factorial of 5"
   ]
  },
  {
   "cell_type": "code",
   "execution_count": 26,
   "metadata": {},
   "outputs": [
    {
     "name": "stdout",
     "output_type": "stream",
     "text": [
      "0.49999999999999994 0.8660254037844387\n"
     ]
    }
   ],
   "source": [
    "from math import sin, cos\n",
    "theta = math.pi/6\n",
    "print(sin(theta), cos(theta))"
   ]
  },
  {
   "cell_type": "markdown",
   "metadata": {},
   "source": [
    "- Or, use a different import syntax and use the function name alone:"
   ]
  },
  {
   "cell_type": "code",
   "execution_count": 27,
   "metadata": {},
   "outputs": [
    {
     "data": {
      "text/plain": [
       "120"
      ]
     },
     "execution_count": 27,
     "metadata": {},
     "output_type": "execute_result"
    }
   ],
   "source": [
    "from math import *  # this imports all contents of module\n",
    "factorial(5)        # no module name"
   ]
  },
  {
   "cell_type": "code",
   "execution_count": 28,
   "metadata": {},
   "outputs": [
    {
     "data": {
      "text/plain": [
       "120"
      ]
     },
     "execution_count": 28,
     "metadata": {},
     "output_type": "execute_result"
    }
   ],
   "source": [
    "import math as ma  #assign an alias for module name\n",
    "ma.factorial(5)"
   ]
  },
  {
   "cell_type": "markdown",
   "metadata": {},
   "source": [
    "To find the function you need, you might need the **documentation**:\n",
    "\n",
    " - Built-in functions:  [https://docs.python.org/3.6/library/functions.html](https://docs.python.org/3.6/library/functions.html)\n",
    " - Math module:  [https://docs.python.org/3.6/library/math.html](https://docs.python.org/3.6/library/math.html)\n",
    " - Google is your friend!\n",
    " - And also the Tab key"
   ]
  },
  {
   "cell_type": "markdown",
   "metadata": {},
   "source": [
    "<p><a name=\"lambda\"></a></p>\n",
    "# Lambda Functions and Named Functions\n",
    "\n",
    "**Defining Functions**\n",
    "\n",
    "- You have seen how to call functions.  Now we’ll see how to define them.\n",
    "- The following function takes a number x and returns $x^2 + x^3$."
   ]
  },
  {
   "cell_type": "code",
   "execution_count": 29,
   "metadata": {},
   "outputs": [],
   "source": [
    "def add_two_powers(x):\n",
    "    return x**2 + x**3"
   ]
  },
  {
   "cell_type": "markdown",
   "metadata": {},
   "source": [
    "- The keyword **def** introduces a function definition. It is followed by the function name and a parenthesized list of parameters. \n",
    "- The statements in the body of the function start at the next line, and must be indented.\n",
    "- Call the function in the usual way (after the function has been defined, whether in the same cell or a later cell):"
   ]
  },
  {
   "cell_type": "code",
   "execution_count": 30,
   "metadata": {},
   "outputs": [
    {
     "data": {
      "text/plain": [
       "80"
      ]
     },
     "execution_count": 30,
     "metadata": {},
     "output_type": "execute_result"
    }
   ],
   "source": [
    "add_two_powers(4)"
   ]
  },
  {
   "cell_type": "markdown",
   "metadata": {},
   "source": [
    "- There is an alternative syntax for function definitions that will turn out to be handy.  It uses the **lambda** keyword. \n",
    "\n",
    "- Back to the previous problem, we could write:"
   ]
  },
  {
   "cell_type": "code",
   "execution_count": 33,
   "metadata": {},
   "outputs": [
    {
     "data": {
      "text/plain": [
       "80"
      ]
     },
     "execution_count": 33,
     "metadata": {},
     "output_type": "execute_result"
    }
   ],
   "source": [
    "Add_two_powers = lambda x: x**2 + x**3\n",
    "Add_two_powers(4)"
   ]
  },
  {
   "cell_type": "markdown",
   "metadata": {},
   "source": [
    "The two syntaxes for function definitions give the same result, but note the differences in syntax:\n",
    "\n",
    "```python\n",
    "\n",
    "def f(x):\n",
    "   return expression\n",
    "  \n",
    "f = lambda x: expression\n",
    "\n",
    "```\n"
   ]
  },
  {
   "cell_type": "markdown",
   "metadata": {},
   "source": [
    "- The first version begins with **def** and has its argument in parentheses.  The second version looks like an assignment statement; it uses the keyword **lambda**, and the argument is not in parentheses.\n",
    "\n",
    "- The first version uses the keyword **return**; the second version doesn’t.\n",
    "\n",
    "- To define a function with multiple arguments, just add more names to the variable list, separated by commas."
   ]
  },
  {
   "cell_type": "code",
   "execution_count": 34,
   "metadata": {},
   "outputs": [],
   "source": [
    "import math\n",
    "\n",
    "# def notation\n",
    "def vector_length(x, y):\n",
    "    return math.sqrt(x**2 + y**2)\n",
    "\n",
    "# lambda notation\n",
    "Vector_length = lambda x, y: math.sqrt(x**2 + y**2)"
   ]
  },
  {
   "cell_type": "code",
   "execution_count": 35,
   "metadata": {},
   "outputs": [
    {
     "name": "stdout",
     "output_type": "stream",
     "text": [
      "13.0\n",
      "13.0\n"
     ]
    }
   ],
   "source": [
    "print(vector_length(5,12))\n",
    "print(Vector_length(5,12))"
   ]
  },
  {
   "cell_type": "markdown",
   "metadata": {},
   "source": [
    "Sometimes you might just need a placeholder for your function, you can use the **pass** statement."
   ]
  },
  {
   "cell_type": "code",
   "execution_count": 36,
   "metadata": {},
   "outputs": [],
   "source": [
    "def my_fun(x):\n",
    "    pass"
   ]
  },
  {
   "cell_type": "markdown",
   "metadata": {},
   "source": [
    "**Exercise 1**\n",
    "\n",
    "- Define a function that takes the radius of a circle as input and return the area. (Remember the area of a circle = $\\pi r^2$.) Define it with both syntaxes, **def** and **lambda**, calling them area and Area, respectively.\n",
    " \n",
    "- Calculate the area of a circle with radius 10 using both functions."
   ]
  },
  {
   "cell_type": "code",
   "execution_count": 9,
   "metadata": {},
   "outputs": [
    {
     "data": {
      "text/plain": [
       "True"
      ]
     },
     "execution_count": 9,
     "metadata": {},
     "output_type": "execute_result"
    }
   ],
   "source": [
    "#### Your code here\n",
    "def area(radius):\n",
    "    return pi * (radius ** 2)\n",
    "\n",
    "area(10)"
   ]
  },
  {
   "cell_type": "code",
   "execution_count": 11,
   "metadata": {},
   "outputs": [
    {
     "data": {
      "text/plain": [
       "314.1592653589793"
      ]
     },
     "execution_count": 11,
     "metadata": {},
     "output_type": "execute_result"
    }
   ],
   "source": [
    "#### Your code here\n",
    "Area = lambda r: pi * (r ** 2)\n",
    "\n",
    "Area(10)"
   ]
  },
  {
   "cell_type": "code",
   "execution_count": 12,
   "metadata": {},
   "outputs": [
    {
     "data": {
      "text/plain": [
       "True"
      ]
     },
     "execution_count": 12,
     "metadata": {},
     "output_type": "execute_result"
    }
   ],
   "source": [
    "#### Check if the 2 different syntax of function is the same\n",
    "area(10) == Area(10)"
   ]
  },
  {
   "cell_type": "markdown",
   "metadata": {},
   "source": [
    "**Wrap your function in Python module**\n",
    "\n",
    "- Python module ≠ Python package!\n",
    "- Any .py file could be used as a Python module.\n",
    "- People define functions they want to use later and call the function by importing the module.\n",
    "- Create a file called `my_module.py` in the same folder of your iPython notebook.\n",
    "- Copy the following code to your `my_module.py`.\n",
    "\n",
    "    ```python\n",
    "    def my_fun(x):\n",
    "        return x*2\n",
    "    ```"
   ]
  },
  {
   "cell_type": "code",
   "execution_count": 14,
   "metadata": {},
   "outputs": [],
   "source": [
    "from my_module import my_fun"
   ]
  },
  {
   "cell_type": "code",
   "execution_count": 15,
   "metadata": {},
   "outputs": [
    {
     "data": {
      "text/plain": [
       "4"
      ]
     },
     "execution_count": 15,
     "metadata": {},
     "output_type": "execute_result"
    }
   ],
   "source": [
    "my_fun(2)"
   ]
  },
  {
   "cell_type": "markdown",
   "metadata": {},
   "source": [
    "What if we update our function? Change the function in your module.py and run the function again. Does the output change?\n",
    "\n",
    "```python\n",
    "def my_fun(x):\n",
    "    return x*3\n",
    "```"
   ]
  },
  {
   "cell_type": "code",
   "execution_count": 46,
   "metadata": {},
   "outputs": [
    {
     "data": {
      "text/plain": [
       "4"
      ]
     },
     "execution_count": 46,
     "metadata": {},
     "output_type": "execute_result"
    }
   ],
   "source": [
    "my_fun(2)"
   ]
  },
  {
   "cell_type": "markdown",
   "metadata": {},
   "source": [
    "- We can use the so-called [magic commands](https://ipython.org/ipython-doc/3/interactive/magics.html) in jupyter notebook to automatically reload the functions for us.\n",
    "Please check out the details [here](https://ipython.org/ipython-doc/3/config/extensions/autoreload.html)"
   ]
  },
  {
   "cell_type": "code",
   "execution_count": 47,
   "metadata": {},
   "outputs": [],
   "source": [
    "%load_ext autoreload\n",
    "%autoreload 2"
   ]
  },
  {
   "cell_type": "markdown",
   "metadata": {},
   "source": [
    "- Go back to `my_func()` and change it again."
   ]
  },
  {
   "cell_type": "code",
   "execution_count": 48,
   "metadata": {},
   "outputs": [
    {
     "data": {
      "text/plain": [
       "4"
      ]
     },
     "execution_count": 48,
     "metadata": {},
     "output_type": "execute_result"
    }
   ],
   "source": [
    "my_fun(2)"
   ]
  },
  {
   "cell_type": "markdown",
   "metadata": {},
   "source": [
    "<p><a name=\"list\"></a></p>\n",
    "# List\n",
    "\n",
    "- The power of Python comes from having values other than numbers. The two other types of values we’ll use most often are lists and strings.\n",
    "- Lists are ordered collections of values. Examples:  `[1, 2, 3, 4],  [7.5, 9.0, 2]`\n",
    "- Strings are sequences of characters. Examples:  `'This class is about Python.'`  (Note that the space is considered a character.)\n",
    "- Lists can contain any types of values, including numbers, strings or even another list."
   ]
  },
  {
   "cell_type": "markdown",
   "metadata": {},
   "source": [
    "**List operations and functions**\n",
    "\n",
    "- You can manipulate lists in Python, meaning you can create new lists or get values out of lists.\n",
    "- We’ll spend some time going over the major list operations provided by Python.\n",
    "- As we’ve seen, you create a list by writing values in square brackets, separated by commas.\n",
    "  - Note that you can also have a list with no elements, written `[]`.  This list is astonishingly useful - kind of like the number zero.\n",
    "- Given two lists, use `+` to concatenate them:"
   ]
  },
  {
   "cell_type": "code",
   "execution_count": 1,
   "metadata": {},
   "outputs": [
    {
     "data": {
      "text/plain": [
       "[1, 4, 9, 16, 25, 'a', 'b', 'c', 'd']"
      ]
     },
     "execution_count": 1,
     "metadata": {},
     "output_type": "execute_result"
    }
   ],
   "source": [
    "squares = [1,4,9,16,25]\n",
    "alphabet = ['a','b','c','d']\n",
    "squares + alphabet"
   ]
  },
  {
   "cell_type": "markdown",
   "metadata": {},
   "source": [
    "Find the length of a list using the `len()` function:"
   ]
  },
  {
   "cell_type": "code",
   "execution_count": 2,
   "metadata": {},
   "outputs": [
    {
     "name": "stdout",
     "output_type": "stream",
     "text": [
      "5\n",
      "4\n",
      "9\n"
     ]
    }
   ],
   "source": [
    "print(len(squares))\n",
    "print(len(alphabet))\n",
    "print(len(squares + alphabet))"
   ]
  },
  {
   "cell_type": "markdown",
   "metadata": {},
   "source": [
    "The `range` function gives an object representing a list of integers.  To get the list itself cast the range object to a list as follows:"
   ]
  },
  {
   "cell_type": "code",
   "execution_count": 3,
   "metadata": {},
   "outputs": [
    {
     "name": "stdout",
     "output_type": "stream",
     "text": [
      "range(0, 10)\n",
      "[0, 1, 2, 3, 4, 5, 6, 7, 8, 9]\n",
      "[10, 11, 12, 13, 14]\n",
      "[15, 14, 13, 12, 11]\n"
     ]
    }
   ],
   "source": [
    "print(range(10))\n",
    "print(list(range(10)))\n",
    "print(list(range(10, 15)))\n",
    "print(list(range(15, 10, -1)))"
   ]
  },
  {
   "cell_type": "markdown",
   "metadata": {},
   "source": [
    "To create a list just one longer than an existing list - i.e. add an element to the end of a list - use concatenation:"
   ]
  },
  {
   "cell_type": "code",
   "execution_count": 4,
   "metadata": {},
   "outputs": [
    {
     "data": {
      "text/plain": [
       "[1, 4, 9, 16, 25, 36]"
      ]
     },
     "execution_count": 4,
     "metadata": {},
     "output_type": "execute_result"
    }
   ],
   "source": [
    "squares + [36]"
   ]
  },
  {
   "cell_type": "markdown",
   "metadata": {},
   "source": [
    "**Note**:  This operation does not change squares.  That is, it does not “add 36 to squares,” but rather creates a new list that has the same elements as squares, plus one more."
   ]
  },
  {
   "cell_type": "code",
   "execution_count": 5,
   "metadata": {},
   "outputs": [
    {
     "data": {
      "text/plain": [
       "[1, 4, 9, 16, 25]"
      ]
     },
     "execution_count": 5,
     "metadata": {},
     "output_type": "execute_result"
    }
   ],
   "source": [
    "squares"
   ]
  },
  {
   "cell_type": "markdown",
   "metadata": {},
   "source": [
    "There are several operations that apply to lists of numbers and perform operations on the entire list:\n",
    "- **`sum()`**:  Take the sum of the numbers in a list\n",
    "- **`max()`**, **`min()`**:  Take the maximum or minimum of the numbers in a list.  (This can also apply to strings, using lexicographic order.)\n"
   ]
  },
  {
   "cell_type": "code",
   "execution_count": 6,
   "metadata": {},
   "outputs": [
    {
     "name": "stdout",
     "output_type": "stream",
     "text": [
      "55\n",
      "d\n"
     ]
    }
   ],
   "source": [
    "print(sum(squares))\n",
    "print(max(alphabet))"
   ]
  },
  {
   "cell_type": "markdown",
   "metadata": {},
   "source": [
    " - **`sorted()`**:  Sorts a list"
   ]
  },
  {
   "cell_type": "code",
   "execution_count": 7,
   "metadata": {},
   "outputs": [
    {
     "data": {
      "text/plain": [
       "[2, 3, 4, 5, 6]"
      ]
     },
     "execution_count": 7,
     "metadata": {},
     "output_type": "execute_result"
    }
   ],
   "source": [
    "sorted([4, 3, 6, 2, 5])"
   ]
  },
  {
   "cell_type": "code",
   "execution_count": 8,
   "metadata": {},
   "outputs": [
    {
     "data": {
      "text/plain": [
       "['Abc', 'aaaaaa', 'abc', 'zoom']"
      ]
     },
     "execution_count": 8,
     "metadata": {},
     "output_type": "execute_result"
    }
   ],
   "source": [
    "words=['Abc','abc','aaaaaa','zoom']\n",
    "sorted(words)"
   ]
  },
  {
   "cell_type": "markdown",
   "metadata": {},
   "source": [
    "You might be wondering why is 'Abc' in front of 'aaaa'? The reason is the ASCII number of 'A' is lower than 'a'. You can check the details [here](http://www.asciitable.com/)."
   ]
  },
  {
   "cell_type": "code",
   "execution_count": 9,
   "metadata": {},
   "outputs": [
    {
     "data": {
      "text/plain": [
       "['zoom', 'abc', 'aaaaaa', 'Abc']"
      ]
     },
     "execution_count": 9,
     "metadata": {},
     "output_type": "execute_result"
    }
   ],
   "source": [
    "sorted(words, reverse=True)"
   ]
  },
  {
   "cell_type": "code",
   "execution_count": 10,
   "metadata": {},
   "outputs": [
    {
     "data": {
      "text/plain": [
       "['Abc', 'abc', 'zoom', 'aaaaaa']"
      ]
     },
     "execution_count": 10,
     "metadata": {},
     "output_type": "execute_result"
    }
   ],
   "source": [
    "sorted(words, key=len)"
   ]
  },
  {
   "cell_type": "code",
   "execution_count": 11,
   "metadata": {},
   "outputs": [
    {
     "data": {
      "text/plain": [
       "['Abc', 'abc', 'aaaaaa', 'zoom']"
      ]
     },
     "execution_count": 11,
     "metadata": {},
     "output_type": "execute_result"
    }
   ],
   "source": [
    "words"
   ]
  },
  {
   "cell_type": "markdown",
   "metadata": {},
   "source": [
    "**Subscripting**\n",
    "\n",
    "- Get a single element of a list by subscripting with a number. We number the elements from zero (which is pretty common for computer languages, but takes some getting used to). \n",
    "- We can also subscript from the end by using negative numbers (-1 being the last element)."
   ]
  },
  {
   "cell_type": "code",
   "execution_count": 12,
   "metadata": {},
   "outputs": [
    {
     "name": "stdout",
     "output_type": "stream",
     "text": [
      "16\n",
      "25\n"
     ]
    },
    {
     "ename": "IndexError",
     "evalue": "list index out of range",
     "output_type": "error",
     "traceback": [
      "\u001b[1;31m---------------------------------------------------------------------------\u001b[0m",
      "\u001b[1;31mIndexError\u001b[0m                                Traceback (most recent call last)",
      "\u001b[1;32m<ipython-input-12-8bfcabc0faef>\u001b[0m in \u001b[0;36m<module>\u001b[1;34m()\u001b[0m\n\u001b[0;32m      1\u001b[0m \u001b[0mprint\u001b[0m\u001b[1;33m(\u001b[0m\u001b[0msquares\u001b[0m\u001b[1;33m[\u001b[0m\u001b[1;36m3\u001b[0m\u001b[1;33m]\u001b[0m\u001b[1;33m)\u001b[0m\u001b[1;33m\u001b[0m\u001b[0m\n\u001b[0;32m      2\u001b[0m \u001b[0mprint\u001b[0m\u001b[1;33m(\u001b[0m\u001b[0msquares\u001b[0m\u001b[1;33m[\u001b[0m\u001b[1;33m-\u001b[0m\u001b[1;36m1\u001b[0m\u001b[1;33m]\u001b[0m\u001b[1;33m)\u001b[0m\u001b[1;33m\u001b[0m\u001b[0m\n\u001b[1;32m----> 3\u001b[1;33m \u001b[0mprint\u001b[0m\u001b[1;33m(\u001b[0m\u001b[0malphabet\u001b[0m\u001b[1;33m[\u001b[0m\u001b[1;36m6\u001b[0m\u001b[1;33m]\u001b[0m\u001b[1;33m)\u001b[0m   \u001b[1;31m# Be careful not to exceed the range when accessing an index\u001b[0m\u001b[1;33m\u001b[0m\u001b[0m\n\u001b[0m",
      "\u001b[1;31mIndexError\u001b[0m: list index out of range"
     ]
    }
   ],
   "source": [
    "print(squares[3])\n",
    "print(squares[-1])\n",
    "print(alphabet[6])   # Be careful not to exceed the range when accessing an index"
   ]
  },
  {
   "cell_type": "markdown",
   "metadata": {},
   "source": [
    "- `s[start_position:end_position]` returns the substring that starts at index start_position, and ends at index end_position-1. \n",
    "- We say the index runs from start_position to end_position **EXCLUSIVE**."
   ]
  },
  {
   "cell_type": "code",
   "execution_count": 69,
   "metadata": {},
   "outputs": [
    {
     "name": "stdout",
     "output_type": "stream",
     "text": [
      "[1, 4, 9, 16, 25]\n",
      "[4, 9]\n",
      "['c', 'd']\n",
      "[1, 4, 9]\n",
      "[4, 9, 16]\n"
     ]
    }
   ],
   "source": [
    "print(squares)\n",
    "print(squares[1:3])\n",
    "print(alphabet[2:])\n",
    "print(squares[:3])\n",
    "print(squares[1:4])"
   ]
  },
  {
   "cell_type": "markdown",
   "metadata": {},
   "source": [
    "- When a second colon is included the sytax goes as follows:\n",
    "\n",
    " - `s[start_position:end_position:delta]`\n",
    "\n",
    "- The index will run from start_position to end_position **EXCLUSIVE** by increments delta.  To count in the negative direction the delta is negative.  If an argument is not included but the colon is included, the missing argument is default to the edge."
   ]
  },
  {
   "cell_type": "code",
   "execution_count": 14,
   "metadata": {},
   "outputs": [
    {
     "name": "stdout",
     "output_type": "stream",
     "text": [
      "['b', 'c', 'd']\n",
      "[25, 16, 9, 4, 1]\n",
      "['d', 'c', 'b', 'a', 25, 16, 9, 4, 1]\n",
      "[4, 9, 16, 25]\n"
     ]
    }
   ],
   "source": [
    "print(alphabet[1:])\n",
    "print(squares[::-1])\n",
    "print((squares+alphabet)[-1::-1])\n",
    "print(squares[1:50]) # Note it is ok to go out of range when slicing a list"
   ]
  },
  {
   "cell_type": "markdown",
   "metadata": {},
   "source": [
    "To return the index of a value, you can call `list.index()` and pass the value you want to search as the input argument."
   ]
  },
  {
   "cell_type": "code",
   "execution_count": 15,
   "metadata": {},
   "outputs": [
    {
     "data": {
      "text/plain": [
       "1"
      ]
     },
     "execution_count": 15,
     "metadata": {},
     "output_type": "execute_result"
    }
   ],
   "source": [
    "squares.index(4)"
   ]
  },
  {
   "cell_type": "markdown",
   "metadata": {},
   "source": [
    "## Iterators\n",
    "\n",
    "Another way to access elements of a list, or the members of any iterable is to use `iter` and `next`.\n",
    "\n",
    "* Using the function `iter` on an iterable, such as a list, returns an iterator object.\n",
    "\n",
    "* Using the function `next` on an iterator will return elements succesively.  When the end is reached an error will be thrown."
   ]
  },
  {
   "cell_type": "code",
   "execution_count": 16,
   "metadata": {},
   "outputs": [
    {
     "data": {
      "text/plain": [
       "<list_iterator at 0x215d89af128>"
      ]
     },
     "execution_count": 16,
     "metadata": {},
     "output_type": "execute_result"
    }
   ],
   "source": [
    "x = [1,2,5]\n",
    "x_iter = iter(x)\n",
    "x_iter"
   ]
  },
  {
   "cell_type": "markdown",
   "metadata": {},
   "source": [
    "Run the following cell until an error is returned."
   ]
  },
  {
   "cell_type": "code",
   "execution_count": 17,
   "metadata": {},
   "outputs": [
    {
     "data": {
      "text/plain": [
       "1"
      ]
     },
     "execution_count": 17,
     "metadata": {},
     "output_type": "execute_result"
    }
   ],
   "source": [
    "next(x_iter)"
   ]
  },
  {
   "cell_type": "markdown",
   "metadata": {},
   "source": [
    "Using the `list` function will return the remaining elements of the iterable as list."
   ]
  },
  {
   "cell_type": "code",
   "execution_count": 18,
   "metadata": {},
   "outputs": [
    {
     "name": "stdout",
     "output_type": "stream",
     "text": [
      "1\n"
     ]
    },
    {
     "data": {
      "text/plain": [
       "[2, 5]"
      ]
     },
     "execution_count": 18,
     "metadata": {},
     "output_type": "execute_result"
    }
   ],
   "source": [
    "x = [1,2,5]\n",
    "x_iter = iter(x)\n",
    "print(next(x_iter))\n",
    "list(x_iter)"
   ]
  },
  {
   "cell_type": "markdown",
   "metadata": {},
   "source": [
    "<p><a name=\"funcOnList\"></a></p>\n",
    "## Defining Functions on Lists\n",
    "\n",
    "- Functions are defined on lists in exactly the same way as on numbers. (We continue defining every function in both syntaxes, just for practice.)\n",
    "- A function that returns the first element of a list:"
   ]
  },
  {
   "cell_type": "code",
   "execution_count": 19,
   "metadata": {},
   "outputs": [
    {
     "name": "stdout",
     "output_type": "stream",
     "text": [
      "1\n",
      "1\n"
     ]
    }
   ],
   "source": [
    "def firstelt(L):\n",
    "    return L[0]\n",
    "\n",
    "Firstelt = lambda L: L[0]\n",
    "\n",
    "print(firstelt(squares))\n",
    "print(Firstelt(squares))"
   ]
  },
  {
   "cell_type": "markdown",
   "metadata": {},
   "source": [
    "- A function that takes a list `L` and a value `v`, and returns a list that is the same as `L` except that its first element is `v`.\n",
    "- What might give you problem in this function?"
   ]
  },
  {
   "cell_type": "code",
   "execution_count": 20,
   "metadata": {
    "scrolled": true
   },
   "outputs": [],
   "source": [
    "def replacefirst(L, v):\n",
    "    return [v] + L[1:]\n",
    "\n",
    "Replacefirst = lambda L, v:  [v] + L[1:]"
   ]
  },
  {
   "cell_type": "code",
   "execution_count": 21,
   "metadata": {},
   "outputs": [
    {
     "name": "stdout",
     "output_type": "stream",
     "text": [
      "[7, 4, 9, 16, 25]\n",
      "[7, 4, 9, 16, 25]\n"
     ]
    }
   ],
   "source": [
    "print(replacefirst(squares, 7))\n",
    "print(Replacefirst(squares, 7))"
   ]
  },
  {
   "cell_type": "markdown",
   "metadata": {},
   "source": [
    "A function that takes a list `L` and returns a list containing the first, third, and fifth elements of `L`."
   ]
  },
  {
   "cell_type": "code",
   "execution_count": 22,
   "metadata": {},
   "outputs": [],
   "source": [
    "def list135(L):\n",
    "    return [L[0], L[2], L[4]]\n",
    "\n",
    "List135 = lambda L: [L[0], L[2], L[4]]"
   ]
  },
  {
   "cell_type": "markdown",
   "metadata": {},
   "source": [
    "**Exercise 2** \n",
    "\n",
    "- Define the following functions with both notations, changing the first letter of the name to capital to distinguish them:\n",
    " - A function sum2 that returns the sum of the first two elements of a list.\n",
    "   ```\n",
    "   sum2([4, 7, 9, 12]) ---> 11\n",
    "   ```\n",
    " - A function that concatenates a list to itself.\n",
    "   ```\n",
    "   double_lis([4, 7, 9, 12])\n",
    "       ---> [4, 7, 9, 12, 4, 7, 9, 12]\n",
    "   ```"
   ]
  },
  {
   "cell_type": "code",
   "execution_count": 24,
   "metadata": {},
   "outputs": [],
   "source": [
    "#### Your code here\n",
    "def sum2(L):\n",
    "    return L[0] + L[1]"
   ]
  },
  {
   "cell_type": "code",
   "execution_count": 23,
   "metadata": {},
   "outputs": [],
   "source": [
    "#### Your code here\n",
    "Sum2 = lambda L: L[0] + L[1]"
   ]
  },
  {
   "cell_type": "code",
   "execution_count": 27,
   "metadata": {},
   "outputs": [
    {
     "data": {
      "text/plain": [
       "[4, 7, 9, 12, 4, 7, 9, 12]"
      ]
     },
     "execution_count": 27,
     "metadata": {},
     "output_type": "execute_result"
    }
   ],
   "source": [
    "#### Your code here\n",
    "def double_lis(L):\n",
    "    return L + L\n",
    "\n",
    "double_lis([4, 7, 9, 12])"
   ]
  },
  {
   "cell_type": "code",
   "execution_count": 25,
   "metadata": {},
   "outputs": [],
   "source": [
    "#### Your code here\n",
    "Double_lis = lambda L: L + L"
   ]
  },
  {
   "cell_type": "markdown",
   "metadata": {},
   "source": [
    "<p><a name=\"nList\"></a></p>\n",
    "## Nested Lists\n",
    "\n",
    "- Lists can contain any type of values, including other lists.  This can be confusing, but the principle is the same as with any other elements.\n",
    "- The list `[v1, v2, …, vn]` has n elements.  The first is `v1`, the second is `v2`, etc.  This is true no matter what the types of the elements are:\n",
    "\n",
    " - `[1, 2, 3]` has three elements.  (Try `len([1,2,3])`.)\n",
    " - `[1, 2, [3, 4, 5]]` also has three elements.\n",
    " - `[1, [\"ab\", \"cd\"], [3, 4, 5]]` also has three elements.\n",
    " - `[[], [\"ab\", \"cd\"], [3, 4, 5]]` also has three elements.\n",
    "\n",
    "The operations we’ve seen above like “`+`”, `len()` and subscripting work the same on nested lists as on non-nested lists."
   ]
  },
  {
   "cell_type": "code",
   "execution_count": 78,
   "metadata": {},
   "outputs": [
    {
     "data": {
      "text/plain": [
       "4"
      ]
     },
     "execution_count": 78,
     "metadata": {},
     "output_type": "execute_result"
    }
   ],
   "source": [
    "x = [[], 1, ['ab', 'cd'], [3, 4, 5]]\n",
    "len(x)"
   ]
  },
  {
   "cell_type": "code",
   "execution_count": 79,
   "metadata": {},
   "outputs": [
    {
     "data": {
      "text/plain": [
       "2"
      ]
     },
     "execution_count": 79,
     "metadata": {},
     "output_type": "execute_result"
    }
   ],
   "source": [
    "y = [['q', 'r', 's'], 2]\n",
    "len(y)"
   ]
  },
  {
   "cell_type": "code",
   "execution_count": 80,
   "metadata": {},
   "outputs": [
    {
     "data": {
      "text/plain": [
       "['ab', 'cd']"
      ]
     },
     "execution_count": 80,
     "metadata": {},
     "output_type": "execute_result"
    }
   ],
   "source": [
    "x[2]"
   ]
  },
  {
   "cell_type": "code",
   "execution_count": 81,
   "metadata": {},
   "outputs": [
    {
     "data": {
      "text/plain": [
       "'ab'"
      ]
     },
     "execution_count": 81,
     "metadata": {},
     "output_type": "execute_result"
    }
   ],
   "source": [
    "x[2][0]"
   ]
  },
  {
   "cell_type": "code",
   "execution_count": 82,
   "metadata": {},
   "outputs": [
    {
     "data": {
      "text/plain": [
       "[[], 1, ['ab', 'cd'], [3, 4, 5], ['q', 'r', 's'], 2]"
      ]
     },
     "execution_count": 82,
     "metadata": {},
     "output_type": "execute_result"
    }
   ],
   "source": [
    "x + y"
   ]
  },
  {
   "cell_type": "markdown",
   "metadata": {},
   "source": [
    "**Exercise 3** \n",
    "- Write a function `firstfirst` (in both syntaxes) that takes a nested list as input and returns the first element of the first element.  (The first element must be a non-empty list).\n",
    "```\n",
    "y = [['q', 'r', 's'], 2]\n",
    "firstfirst(y) ---> 'q'\n",
    "```\n",
    "- Write a function `subscr2` that takes two arguments: a nested list and a list with two integers.  It uses those two integers as indexes into the nested list:\n",
    "```\n",
    "y = [['q', 'r', 's'], 2]\n",
    "subscr2(y, [0, 2]) ---> 's'\n",
    "```"
   ]
  },
  {
   "cell_type": "code",
   "execution_count": 28,
   "metadata": {},
   "outputs": [
    {
     "data": {
      "text/plain": [
       "'q'"
      ]
     },
     "execution_count": 28,
     "metadata": {},
     "output_type": "execute_result"
    }
   ],
   "source": [
    "#### Your code here\n",
    "y = [['q', 'r', 's'], 2]\n",
    "#1\n",
    "def firstfirst(L):\n",
    "    L1 = L[0]\n",
    "    return L1[0]\n",
    "firstfirst(y)"
   ]
  },
  {
   "cell_type": "code",
   "execution_count": 31,
   "metadata": {},
   "outputs": [
    {
     "data": {
      "text/plain": [
       "'q'"
      ]
     },
     "execution_count": 31,
     "metadata": {},
     "output_type": "execute_result"
    }
   ],
   "source": [
    "#### Your code here\n",
    "Firstfirst = lambda L: L[0][0]\n",
    "Firstfirst(y)"
   ]
  },
  {
   "cell_type": "code",
   "execution_count": 32,
   "metadata": {},
   "outputs": [
    {
     "data": {
      "text/plain": [
       "'s'"
      ]
     },
     "execution_count": 32,
     "metadata": {},
     "output_type": "execute_result"
    }
   ],
   "source": [
    "#### Your code here\n",
    "y = [['q', 'r', 's'], 2]\n",
    "#2\n",
    "def subscr2(L, indexes):\n",
    "    return L[indexes[0]][indexes[1]]\n",
    "subscr2(y, [0, 2])"
   ]
  },
  {
   "cell_type": "code",
   "execution_count": 33,
   "metadata": {},
   "outputs": [
    {
     "data": {
      "text/plain": [
       "'s'"
      ]
     },
     "execution_count": 33,
     "metadata": {},
     "output_type": "execute_result"
    }
   ],
   "source": [
    "#### Your code here\n",
    "Subscr2 = lambda L, indexes: L[indexes[0]][indexes[1]]\n",
    "Subscr2(y, [0, 2])"
   ]
  },
  {
   "cell_type": "markdown",
   "metadata": {},
   "source": [
    "<p><a name=\"funcOper\"></a></p>\n",
    "# Functional Operators\n",
    "\n",
    "### `map`\n",
    "\n",
    "- You will often want to apply a function to all elements of a list.\n",
    "- Suppose a list `L` has elements that are all numbers, and `f` is a function on numbers.  Then `map(f, L)` is the result of applying `f` to every element of `L`.\n",
    "- The `map` function returns a map object, which is an **iterator**.  To get the list use the `list` function."
   ]
  },
  {
   "cell_type": "code",
   "execution_count": 35,
   "metadata": {},
   "outputs": [
    {
     "ename": "TypeError",
     "evalue": "must be real number, not list",
     "output_type": "error",
     "traceback": [
      "\u001b[1;31m---------------------------------------------------------------------------\u001b[0m",
      "\u001b[1;31mTypeError\u001b[0m                                 Traceback (most recent call last)",
      "\u001b[1;32m<ipython-input-35-57aa1e1188af>\u001b[0m in \u001b[0;36m<module>\u001b[1;34m()\u001b[0m\n\u001b[0;32m      1\u001b[0m \u001b[1;32mimport\u001b[0m \u001b[0mmath\u001b[0m\u001b[1;33m\u001b[0m\u001b[0m\n\u001b[1;32m----> 2\u001b[1;33m \u001b[0mmath\u001b[0m\u001b[1;33m.\u001b[0m\u001b[0msqrt\u001b[0m\u001b[1;33m(\u001b[0m\u001b[1;33m[\u001b[0m\u001b[1;36m1\u001b[0m\u001b[1;33m,\u001b[0m\u001b[1;36m4\u001b[0m\u001b[1;33m,\u001b[0m\u001b[1;36m9\u001b[0m\u001b[1;33m]\u001b[0m\u001b[1;33m)\u001b[0m\u001b[1;33m\u001b[0m\u001b[0m\n\u001b[0m",
      "\u001b[1;31mTypeError\u001b[0m: must be real number, not list"
     ]
    }
   ],
   "source": [
    "import math\n",
    "math.sqrt([1,4,9])"
   ]
  },
  {
   "cell_type": "code",
   "execution_count": 36,
   "metadata": {},
   "outputs": [
    {
     "data": {
      "text/plain": [
       "<map at 0x215d89b3048>"
      ]
     },
     "execution_count": 36,
     "metadata": {},
     "output_type": "execute_result"
    }
   ],
   "source": [
    "L = [4, 9, 16]\n",
    "map(math.sqrt, L)"
   ]
  },
  {
   "cell_type": "code",
   "execution_count": 37,
   "metadata": {},
   "outputs": [
    {
     "ename": "NameError",
     "evalue": "name 'add_two_powers' is not defined",
     "output_type": "error",
     "traceback": [
      "\u001b[1;31m---------------------------------------------------------------------------\u001b[0m",
      "\u001b[1;31mNameError\u001b[0m                                 Traceback (most recent call last)",
      "\u001b[1;32m<ipython-input-37-7bad2aa6e033>\u001b[0m in \u001b[0;36m<module>\u001b[1;34m()\u001b[0m\n\u001b[1;32m----> 1\u001b[1;33m \u001b[0mlist\u001b[0m\u001b[1;33m(\u001b[0m\u001b[0mmap\u001b[0m\u001b[1;33m(\u001b[0m\u001b[0madd_two_powers\u001b[0m\u001b[1;33m,\u001b[0m \u001b[0mL\u001b[0m\u001b[1;33m)\u001b[0m\u001b[1;33m)\u001b[0m\u001b[1;33m\u001b[0m\u001b[0m\n\u001b[0m",
      "\u001b[1;31mNameError\u001b[0m: name 'add_two_powers' is not defined"
     ]
    }
   ],
   "source": [
    "list(map(add_two_powers, L))"
   ]
  },
  {
   "cell_type": "markdown",
   "metadata": {},
   "source": [
    "You can apply any one-argument function, as long as the values in the list are of the type that function expects."
   ]
  },
  {
   "cell_type": "code",
   "execution_count": 38,
   "metadata": {},
   "outputs": [
    {
     "name": "stdout",
     "output_type": "stream",
     "text": [
      "[0, 2, 3]\n"
     ]
    }
   ],
   "source": [
    "nested_list1 = [[], [\"ab\", \"cd\"], [3, 4, 5]]\n",
    "m = list(map(len, nested_list1)) #len applies to lists\n",
    "print(m)"
   ]
  },
  {
   "cell_type": "code",
   "execution_count": 71,
   "metadata": {},
   "outputs": [
    {
     "ename": "IndexError",
     "evalue": "list index out of range",
     "output_type": "error",
     "traceback": [
      "\u001b[1;31m---------------------------------------------------------------------------\u001b[0m",
      "\u001b[1;31mIndexError\u001b[0m                                Traceback (most recent call last)",
      "\u001b[1;32m<ipython-input-71-f4a74516f4d1>\u001b[0m in \u001b[0;36m<module>\u001b[1;34m()\u001b[0m\n\u001b[0;32m      1\u001b[0m \u001b[1;31m# firstelt applies to lists that are of non-zero length\u001b[0m\u001b[1;33m\u001b[0m\u001b[1;33m\u001b[0m\u001b[0m\n\u001b[1;32m----> 2\u001b[1;33m \u001b[0mlist\u001b[0m\u001b[1;33m(\u001b[0m\u001b[0mmap\u001b[0m\u001b[1;33m(\u001b[0m\u001b[0mfirstelt\u001b[0m\u001b[1;33m,\u001b[0m \u001b[0mnested_list1\u001b[0m\u001b[1;33m)\u001b[0m\u001b[1;33m)\u001b[0m\u001b[1;33m\u001b[0m\u001b[0m\n\u001b[0m",
      "\u001b[1;32m<ipython-input-19-331e8b49e24e>\u001b[0m in \u001b[0;36mfirstelt\u001b[1;34m(L)\u001b[0m\n\u001b[0;32m      1\u001b[0m \u001b[1;32mdef\u001b[0m \u001b[0mfirstelt\u001b[0m\u001b[1;33m(\u001b[0m\u001b[0mL\u001b[0m\u001b[1;33m)\u001b[0m\u001b[1;33m:\u001b[0m\u001b[1;33m\u001b[0m\u001b[0m\n\u001b[1;32m----> 2\u001b[1;33m     \u001b[1;32mreturn\u001b[0m \u001b[0mL\u001b[0m\u001b[1;33m[\u001b[0m\u001b[1;36m0\u001b[0m\u001b[1;33m]\u001b[0m\u001b[1;33m\u001b[0m\u001b[0m\n\u001b[0m\u001b[0;32m      3\u001b[0m \u001b[1;33m\u001b[0m\u001b[0m\n\u001b[0;32m      4\u001b[0m \u001b[0mFirstelt\u001b[0m \u001b[1;33m=\u001b[0m \u001b[1;32mlambda\u001b[0m \u001b[0mL\u001b[0m\u001b[1;33m:\u001b[0m \u001b[0mL\u001b[0m\u001b[1;33m[\u001b[0m\u001b[1;36m0\u001b[0m\u001b[1;33m]\u001b[0m\u001b[1;33m\u001b[0m\u001b[0m\n\u001b[0;32m      5\u001b[0m \u001b[1;33m\u001b[0m\u001b[0m\n",
      "\u001b[1;31mIndexError\u001b[0m: list index out of range"
     ]
    }
   ],
   "source": [
    "# firstelt applies to lists that are of non-zero length\n",
    "list(map(firstelt, nested_list1))"
   ]
  },
  {
   "cell_type": "code",
   "execution_count": 40,
   "metadata": {},
   "outputs": [
    {
     "data": {
      "text/plain": [
       "['ab', 3]"
      ]
     },
     "execution_count": 40,
     "metadata": {},
     "output_type": "execute_result"
    }
   ],
   "source": [
    "list(map(firstelt, nested_list1[1:]))"
   ]
  },
  {
   "cell_type": "markdown",
   "metadata": {},
   "source": [
    "Functions can use `map` just as they can use any other function."
   ]
  },
  {
   "cell_type": "code",
   "execution_count": 41,
   "metadata": {},
   "outputs": [],
   "source": [
    "def get_lengths(L):\n",
    "    return list(map(len, L))\n",
    "\n",
    "Get_lengths = lambda L: list(map(len, L))"
   ]
  },
  {
   "cell_type": "code",
   "execution_count": 42,
   "metadata": {},
   "outputs": [
    {
     "name": "stdout",
     "output_type": "stream",
     "text": [
      "[0, 2, 3]\n",
      "[0, 2, 3]\n"
     ]
    }
   ],
   "source": [
    "print(get_lengths(nested_list1))\n",
    "print(Get_lengths(nested_list1))"
   ]
  },
  {
   "cell_type": "markdown",
   "metadata": {},
   "source": [
    "**Exercise 4**   \n",
    "\n",
    "- `square_all` squares every element of a numeric list.  (Define `sqr` to square a number, and map it over the list.)\n",
    "```\n",
    "squaree_all([1, 2, 3]) ---> [1, 4, 9]\n",
    "```\n",
    "- `get_second` gets the second element of every list in a nested list. (Define snd to get the second element of a list, and map it.)\n",
    "```\n",
    "get_second([[1, 2, 3], [4, 5], [6, 7, 8]]) ---> [2, 5, 7]\n",
    "```\n",
    "- `tot_length` finds the total length of the lists in a nested list.\n",
    "```\n",
    "tot_length([[1, 2, 3], [4, 5], [6, 7, 8]]) ---> 8\n",
    "```"
   ]
  },
  {
   "cell_type": "code",
   "execution_count": 43,
   "metadata": {},
   "outputs": [],
   "source": [
    "#### Your code here\n",
    "\n",
    "#1\n",
    "def sqr(x):\n",
    "    return x ** 2\n",
    "\n",
    "def square_all(L):\n",
    "    return list(map(sqr, L))\n"
   ]
  },
  {
   "cell_type": "code",
   "execution_count": 44,
   "metadata": {},
   "outputs": [],
   "source": [
    "#### Your code here\n",
    "Square_all = lambda L: list(map(sqr, L))"
   ]
  },
  {
   "cell_type": "code",
   "execution_count": 45,
   "metadata": {},
   "outputs": [],
   "source": [
    "#### Your code here\n",
    "\n",
    "#2\n",
    "def snd(x):\n",
    "    return x[1]\n",
    "\n",
    "def get_second(L):\n",
    "    return list(map(snd, L))\n"
   ]
  },
  {
   "cell_type": "code",
   "execution_count": 46,
   "metadata": {},
   "outputs": [],
   "source": [
    "#### Your code here\n",
    "Get_second = lambda L: list(map(snd, L))"
   ]
  },
  {
   "cell_type": "code",
   "execution_count": null,
   "metadata": {
    "collapsed": true
   },
   "outputs": [],
   "source": [
    "#### Your code here\n",
    "\n",
    "#3\n",
    "def tot_length(L):\n",
    "    return list(map(len, L))\n",
    "    \n",
    "Tot_length = lambda L: list(map(len, L))\n"
   ]
  },
  {
   "cell_type": "markdown",
   "metadata": {
    "collapsed": true
   },
   "source": [
    "<p><a name=\"bool\"></a></p>\n",
    "## Boolean Functions\n",
    "\n",
    "- Boolean functions return one of the truth values **`True`** or **`False`**.\n",
    "- There are built-in operators and functions that return booleans:\n",
    " - Arithmetic comparison operators: `==`, `!=`, ...\n",
    "- Conditions can be combined using **`and`**, **`or`**, and **`not`**:\n",
    " - a **and** b: return True if both a and b are True\n",
    " - a **or** b: return True if at least one is True\n",
    " - **not** a: return True if a is False"
   ]
  },
  {
   "cell_type": "code",
   "execution_count": 47,
   "metadata": {},
   "outputs": [
    {
     "name": "stdout",
     "output_type": "stream",
     "text": [
      "True\n",
      "True\n",
      "False\n"
     ]
    }
   ],
   "source": [
    "#or\n",
    "print(True or True)\n",
    "print(True or False)\n",
    "print(False or False)"
   ]
  },
  {
   "cell_type": "code",
   "execution_count": null,
   "metadata": {
    "collapsed": true
   },
   "outputs": [],
   "source": [
    "#and\n",
    "print(True and True)\n",
    "print(True and False)\n",
    "print(False and False)"
   ]
  },
  {
   "cell_type": "code",
   "execution_count": null,
   "metadata": {
    "collapsed": true
   },
   "outputs": [],
   "source": [
    "not True"
   ]
  },
  {
   "cell_type": "code",
   "execution_count": null,
   "metadata": {
    "collapsed": true
   },
   "outputs": [],
   "source": [
    "True == 1"
   ]
  },
  {
   "cell_type": "code",
   "execution_count": null,
   "metadata": {
    "collapsed": true
   },
   "outputs": [],
   "source": [
    "False == 0"
   ]
  },
  {
   "cell_type": "markdown",
   "metadata": {},
   "source": [
    "**Note:** \n",
    "- The '==' is different from the 'is' operator.\n",
    "- The **is** operator checks if both the variables point to the same object whereas the `==` sign checks if the values for the two variables are the same. \n",
    "- So if the **is** operator returns True then the equality is definitely True, but the opposite may or may not be True. "
   ]
  },
  {
   "cell_type": "code",
   "execution_count": null,
   "metadata": {
    "collapsed": true
   },
   "outputs": [],
   "source": [
    "a = b = [1,2,3]\n",
    "c = [1,2,3]"
   ]
  },
  {
   "cell_type": "code",
   "execution_count": null,
   "metadata": {
    "collapsed": true
   },
   "outputs": [],
   "source": [
    "print(a == b)\n",
    "print(a == c)"
   ]
  },
  {
   "cell_type": "code",
   "execution_count": null,
   "metadata": {
    "collapsed": true
   },
   "outputs": [],
   "source": [
    "print(a is b)\n",
    "print(a is c)"
   ]
  },
  {
   "cell_type": "code",
   "execution_count": null,
   "metadata": {
    "collapsed": true
   },
   "outputs": [],
   "source": [
    "x = 6\n",
    "print(x > 5 and x < 7)"
   ]
  },
  {
   "cell_type": "code",
   "execution_count": null,
   "metadata": {
    "collapsed": true
   },
   "outputs": [],
   "source": [
    "print(x != -1 or x >= 10)"
   ]
  },
  {
   "cell_type": "markdown",
   "metadata": {},
   "source": [
    "Defining boolean functions is no different from defining any other kind of functions."
   ]
  },
  {
   "cell_type": "code",
   "execution_count": null,
   "metadata": {
    "collapsed": true
   },
   "outputs": [],
   "source": [
    "# Test whether a list is empty\n",
    "def is_empty(L):\n",
    "    return L == []\n",
    "\n",
    "Is_empty = lambda L: L == []"
   ]
  },
  {
   "cell_type": "code",
   "execution_count": null,
   "metadata": {
    "collapsed": true
   },
   "outputs": [],
   "source": [
    "print(Is_empty(squares))\n",
    "print(is_empty([]))"
   ]
  },
  {
   "cell_type": "markdown",
   "metadata": {},
   "source": [
    "<p><a name=\"filter\"></a></p>\n",
    "### `filter`\n",
    "\n",
    "Filter extracts elements of a list satisfying some condition. The condition is given in the form of a boolean function.\n",
    "\n",
    "The `filter` function also returns an iterator object.  Use `list` to get the associated list."
   ]
  },
  {
   "cell_type": "code",
   "execution_count": 48,
   "metadata": {},
   "outputs": [],
   "source": [
    "def non_zero(x):\n",
    "    return x != 0"
   ]
  },
  {
   "cell_type": "code",
   "execution_count": 49,
   "metadata": {},
   "outputs": [
    {
     "name": "stdout",
     "output_type": "stream",
     "text": [
      "True\n",
      "False\n"
     ]
    }
   ],
   "source": [
    "print(non_zero(1))\n",
    "print(non_zero(0))"
   ]
  },
  {
   "cell_type": "code",
   "execution_count": 50,
   "metadata": {},
   "outputs": [
    {
     "data": {
      "text/plain": [
       "<filter at 0x215d89aa4e0>"
      ]
     },
     "execution_count": 50,
     "metadata": {},
     "output_type": "execute_result"
    }
   ],
   "source": [
    "# Get a list of all the non-zero elements of a list\n",
    "filter(non_zero, [1, 2, 0, -3, 0, -5])"
   ]
  },
  {
   "cell_type": "code",
   "execution_count": 51,
   "metadata": {},
   "outputs": [
    {
     "data": {
      "text/plain": [
       "[1, 2, -3, -5]"
      ]
     },
     "execution_count": 51,
     "metadata": {},
     "output_type": "execute_result"
    }
   ],
   "source": [
    "list(filter(non_zero, [1, 2, 0, -3, 0, -5]))"
   ]
  },
  {
   "cell_type": "markdown",
   "metadata": {},
   "source": [
    "Let’s write some functions using filter."
   ]
  },
  {
   "cell_type": "code",
   "execution_count": 52,
   "metadata": {},
   "outputs": [],
   "source": [
    "# Return all the non-empty lists from a nested list\n",
    "def is_not_empty(L):\n",
    "    return L != []"
   ]
  },
  {
   "cell_type": "code",
   "execution_count": 53,
   "metadata": {},
   "outputs": [
    {
     "data": {
      "text/plain": [
       "[[1, 2, 3], [4, 5, 6]]"
      ]
     },
     "execution_count": 53,
     "metadata": {},
     "output_type": "execute_result"
    }
   ],
   "source": [
    "list(filter(is_not_empty, [[], [1,2,3], [], [4,5,6], []]))"
   ]
  },
  {
   "cell_type": "code",
   "execution_count": 54,
   "metadata": {},
   "outputs": [
    {
     "data": {
      "text/plain": [
       "['ab', 3]"
      ]
     },
     "execution_count": 54,
     "metadata": {},
     "output_type": "execute_result"
    }
   ],
   "source": [
    "list(map(firstelt, filter(is_not_empty, nested_list1)))"
   ]
  },
  {
   "cell_type": "markdown",
   "metadata": {},
   "source": [
    "**Exercise 5**\n",
    "\n",
    "- Define a boolean function `increase2` that tests whether the first two elements of a list are in increasing order.\n",
    "```\n",
    "increase2([2, 5, 4, 9]) ---> True\n",
    "increase2([2, 2, 5, 0]) ---> False\n",
    "```\n",
    "\n",
    "- Define a function `increasing_lists` that selects from a nested list only those lists that satisfy increase2:\n",
    "```\n",
    "increasing_lists([[2, 5, 4, 9], [2, 2], [3, 4, 5]]) \n",
    "    ---> [[2, 5, 4, 9], [3, 4, 5]]\n",
    "```"
   ]
  },
  {
   "cell_type": "code",
   "execution_count": 55,
   "metadata": {},
   "outputs": [],
   "source": [
    "#### Your code here\n",
    "\n",
    "#1\n",
    "def increase2(L):\n",
    "    return L[1] > L[0]\n",
    "\n",
    "Increase2 = lambda L: L[1] > L[0]"
   ]
  },
  {
   "cell_type": "code",
   "execution_count": 56,
   "metadata": {},
   "outputs": [],
   "source": [
    "#### Your code here\n",
    "\n",
    "#2\n",
    "def increasing_lists(L):\n",
    "    return list(filter(increasing2, L))\n",
    "\n",
    "Increasing_lists = lambda L: list(filter(increasing2, L))"
   ]
  },
  {
   "cell_type": "markdown",
   "metadata": {},
   "source": [
    "** Anonymous functions**\n",
    "\n",
    "- We have been using two notations for defining functions because they will turn out to be useful in different ways. The “`def`” notation is much more common, and we will see that it has some real advantages. But the “`lambda`” notation has one big advantage we can use right now:\n",
    "- Lambda functions can be used without assigning them to variables - that is, without naming them.\n",
    " ```\n",
    " map(lambda x: x**2 + x**3, [2,3,4]) ---> [12, 36, 80]\n",
    " filter(lambda x: x != 0, [1, 2, 0, 3, 0, 6]) ---> [1, 2, 3, 6]\n",
    " ```\n",
    "\n",
    "- When lambda functions are defined this way, they are called \"anonymous functions\". As we use `map`, `filter`, and other similar operations more and more, anonymous functions will be really handy."
   ]
  },
  {
   "cell_type": "markdown",
   "metadata": {},
   "source": [
    "<p><a name=\"multiList\"></a></p>\n",
    "## Multiple List Operations\n",
    "\n",
    "- A multiple-list operation is one that combines two lists\n",
    " - Add the elements of two lists of the same length\n",
    " - Rearrange the elements of one list by using elements of another list as subscripts\n",
    " - Select elements of one list corresponding to the True elements in a list of boolean values\n",
    "\n",
    "- These operations require that we map simultaneously over two lists. There are two ways to do this:\n",
    " - Use `map`. We’ve used `map` to map over a single list with a unary function, but it can also be used to map over multiple lists.\n",
    " - Use `zip` to put two lists together, then use unary map.\n",
    " \n",
    "- `map(fun, lis1, lis2)` applies fun to pairs of elements from `lis1` and `lis2`\n",
    " - `lis1` and `lis2` must have the same length\n",
    " - `fun` is a binary operation whose arguments are of the correct type.\n",
    " \n",
    "- If `lis1 = [x0, x1, x2, ...]` and `lis2 = [y0, y1, y2, ...]`, then `map(fun, lis1, lis2)` is equal to `[fun(x0, y0), fun(x1, y1), fun(x2, y2), ...]`."
   ]
  },
  {
   "cell_type": "code",
   "execution_count": 57,
   "metadata": {},
   "outputs": [
    {
     "data": {
      "text/plain": [
       "[11, 22, 33]"
      ]
     },
     "execution_count": 57,
     "metadata": {},
     "output_type": "execute_result"
    }
   ],
   "source": [
    "list(map(lambda x, y: x+y, [1,2,3], [10,20,30])) # [1+10, 2+20, 3+30]"
   ]
  },
  {
   "cell_type": "code",
   "execution_count": 58,
   "metadata": {},
   "outputs": [
    {
     "data": {
      "text/plain": [
       "[1, 3]"
      ]
     },
     "execution_count": 58,
     "metadata": {},
     "output_type": "execute_result"
    }
   ],
   "source": [
    "list(map(lambda x, y: x[y], [[1, 2], [2, 3]], [0, 1])) # [[1, 2][0], [2, 3][1]]"
   ]
  },
  {
   "cell_type": "markdown",
   "metadata": {},
   "source": [
    "`zip` is a binary function that takes two lists of the same length and makes one list containing pairs of corresponding elements of the two lists."
   ]
  },
  {
   "cell_type": "code",
   "execution_count": 59,
   "metadata": {},
   "outputs": [
    {
     "data": {
      "text/plain": [
       "[(1, 5), (2, 6), (3, 7), (4, 8)]"
      ]
     },
     "execution_count": 59,
     "metadata": {},
     "output_type": "execute_result"
    }
   ],
   "source": [
    "a = [1, 2, 3, 4]\n",
    "b = [5, 6, 7, 8]\n",
    "list(zip(a, b))"
   ]
  },
  {
   "cell_type": "markdown",
   "metadata": {},
   "source": [
    "- The elements in the zipped list are tuples. These are just like lists, but are written using parentheses instead of square brackets. For the most part, the difference between lists and tuples won’t matter to you.\n",
    "- `zip` provides an alternative to binary map:"
   ]
  },
  {
   "cell_type": "code",
   "execution_count": 72,
   "metadata": {},
   "outputs": [
    {
     "data": {
      "text/plain": [
       "[11, 22, 33]"
      ]
     },
     "execution_count": 72,
     "metadata": {},
     "output_type": "execute_result"
    }
   ],
   "source": [
    "list(map(lambda p: p[0]+p[1], zip([1,2,3], [10,20,30])))"
   ]
  },
  {
   "cell_type": "markdown",
   "metadata": {},
   "source": [
    "Both `map` and `zip` can actually apply to more than two lists, in the “obvious” way:"
   ]
  },
  {
   "cell_type": "code",
   "execution_count": null,
   "metadata": {
    "collapsed": true
   },
   "outputs": [],
   "source": [
    "a = [1, 2, 3]\n",
    "b = [5, 6, 7]\n",
    "c = [9, 10, 11]\n",
    "list(zip(a, b, c))"
   ]
  },
  {
   "cell_type": "code",
   "execution_count": null,
   "metadata": {
    "collapsed": true
   },
   "outputs": [],
   "source": [
    "list(map(lambda t: t[0]+t[1]+t[2], zip(a,b,c)))"
   ]
  },
  {
   "cell_type": "code",
   "execution_count": null,
   "metadata": {
    "collapsed": true
   },
   "outputs": [],
   "source": [
    "list(map(lambda x, y, z: x+y+z, a, b, c))"
   ]
  },
  {
   "cell_type": "markdown",
   "metadata": {},
   "source": [
    "**The operator module**\n",
    "\n",
    "If you want to apply a built-in operation like `+` in a map, you can write a `lambda` function - `lambda x, y: x+y` - but there is a simpler way. The operator module defines named versions of the built-in operations, just for use in functions like `map`. For example:"
   ]
  },
  {
   "cell_type": "code",
   "execution_count": null,
   "metadata": {
    "collapsed": true
   },
   "outputs": [],
   "source": [
    "from operator import *\n",
    "print(list(map(add, [1,2,3], [4, 5, 6])))\n",
    "print(list(map(mul, [1,2,3], [4, 5, 6])))"
   ]
  },
  {
   "cell_type": "markdown",
   "metadata": {},
   "source": [
    "The documentation page https://docs.python.org/3/library/operator.html gives the complete list of operator names; see the table at the bottom of the page."
   ]
  },
  {
   "cell_type": "markdown",
   "metadata": {},
   "source": [
    "<p><a name=\"string\"></a></p>\n",
    "# String operations\n",
    "<p><a name=\"strBasic\"></a></p>\n",
    "## String Basics\n",
    "String literals are written using either ingle quotes `('...')` or double quotes `(\"...\")`."
   ]
  },
  {
   "cell_type": "code",
   "execution_count": null,
   "metadata": {
    "collapsed": true
   },
   "outputs": [],
   "source": [
    "s1 = 'Hello world!'\n",
    "s1"
   ]
  },
  {
   "cell_type": "code",
   "execution_count": null,
   "metadata": {
    "collapsed": true
   },
   "outputs": [],
   "source": [
    "s2 = \"Hello world!\"\n",
    "s2"
   ]
  },
  {
   "cell_type": "markdown",
   "metadata": {},
   "source": [
    "Within a string, special symbols can be included by using escape character `(\\)`. Examples are `\\t` for tab and `\\n` for newline."
   ]
  },
  {
   "cell_type": "code",
   "execution_count": null,
   "metadata": {
    "collapsed": true
   },
   "outputs": [],
   "source": [
    "print('this', 'is', 'a', 'tab', sep='\\t')\n",
    "print('that', 'is', 'a', 'newline', sep='\\n')"
   ]
  },
  {
   "cell_type": "markdown",
   "metadata": {},
   "source": [
    "Note that we can enclose double quotes by single quotes. But the single quotes included in a string need to be modified with escaped chatacter. Otherwise:"
   ]
  },
  {
   "cell_type": "code",
   "execution_count": null,
   "metadata": {
    "collapsed": true
   },
   "outputs": [],
   "source": [
    "sent = '\"Isn't that,\" she said.'"
   ]
  },
  {
   "cell_type": "markdown",
   "metadata": {},
   "source": [
    "The `print()` function produces a more readable output by omitting enclosing quotes as well as escaped characters and special symbols:"
   ]
  },
  {
   "cell_type": "code",
   "execution_count": null,
   "metadata": {
    "collapsed": true
   },
   "outputs": [],
   "source": [
    "sent = '\"Isn\\'t that,\" she said.'\n",
    "print(sent)"
   ]
  },
  {
   "cell_type": "markdown",
   "metadata": {},
   "source": [
    "If you don't want the characters prefaced by `\\ ` to be interpreted as special characters, you can use raw strings by adding an `r` before the first quote: "
   ]
  },
  {
   "cell_type": "code",
   "execution_count": null,
   "metadata": {
    "collapsed": true
   },
   "outputs": [],
   "source": [
    "print('C:\\some\\name')"
   ]
  },
  {
   "cell_type": "code",
   "execution_count": null,
   "metadata": {
    "collapsed": true
   },
   "outputs": [],
   "source": [
    "len('C:\\some\\name')"
   ]
  },
  {
   "cell_type": "markdown",
   "metadata": {},
   "source": [
    "Above, `\\n` is interpreted as one special character. To avoid that, add `r` in front of the first quote, then `\\n` become two chatacters."
   ]
  },
  {
   "cell_type": "code",
   "execution_count": null,
   "metadata": {
    "collapsed": true
   },
   "outputs": [],
   "source": [
    "print(r'C:\\some\\name')"
   ]
  },
  {
   "cell_type": "code",
   "execution_count": null,
   "metadata": {
    "collapsed": true
   },
   "outputs": [],
   "source": [
    "len(r'C:\\some\\name')"
   ]
  },
  {
   "cell_type": "markdown",
   "metadata": {},
   "source": [
    "A string is normally coded in one line, but it can also be broken into multiple lines of code by adding `\\ ` in the very last position of each line."
   ]
  },
  {
   "cell_type": "code",
   "execution_count": null,
   "metadata": {
    "collapsed": true
   },
   "outputs": [],
   "source": [
    "longquote = 'This is a particularly long line \\\n",
    "that is broken into two lines'\n",
    "\n",
    "print(longquote)"
   ]
  },
  {
   "cell_type": "markdown",
   "metadata": {},
   "source": [
    "Python also has multiple lineotes: enclose the string with three quotation marks. Note that with three quotation marks the newlines are included"
   ]
  },
  {
   "cell_type": "code",
   "execution_count": null,
   "metadata": {
    "collapsed": true
   },
   "outputs": [],
   "source": [
    "longquote = '''This is a particularly long line\n",
    "that is broken into two lines'''\n",
    "\n",
    "print(longquote)"
   ]
  },
  {
   "cell_type": "markdown",
   "metadata": {},
   "source": [
    "Multiline quotes is often used for docstring."
   ]
  },
  {
   "cell_type": "code",
   "execution_count": null,
   "metadata": {
    "collapsed": true
   },
   "outputs": [],
   "source": [
    "def my_fun(x):\n",
    "    '''\n",
    "    This function takes a numeric number as input and return its cube\n",
    "    Parameters:\n",
    "    ----------\n",
    "    x: numeric numbers\n",
    "    \n",
    "    Returns:\n",
    "    -------\n",
    "    x**3\n",
    "    '''\n",
    "    return x**3"
   ]
  },
  {
   "cell_type": "code",
   "execution_count": null,
   "metadata": {
    "collapsed": true
   },
   "outputs": [],
   "source": [
    "my_fun(2)"
   ]
  },
  {
   "cell_type": "markdown",
   "metadata": {},
   "source": [
    "- Strings are similar to lists. You can subscipt and slice, as well as use `+` to concatenate strings.\n",
    "- Empty space does count as a character."
   ]
  },
  {
   "cell_type": "code",
   "execution_count": null,
   "metadata": {
    "collapsed": true
   },
   "outputs": [],
   "source": [
    "s = 'My dog has fleas'\n",
    "s[1]"
   ]
  },
  {
   "cell_type": "code",
   "execution_count": null,
   "metadata": {
    "collapsed": true
   },
   "outputs": [],
   "source": [
    "s[3:6]"
   ]
  },
  {
   "cell_type": "code",
   "execution_count": null,
   "metadata": {
    "collapsed": true
   },
   "outputs": [],
   "source": [
    "s + ' and so do I.'"
   ]
  },
  {
   "cell_type": "markdown",
   "metadata": {},
   "source": [
    "Convert a string to a list of single-character strings using the function `list()`:"
   ]
  },
  {
   "cell_type": "code",
   "execution_count": null,
   "metadata": {
    "collapsed": true
   },
   "outputs": [],
   "source": [
    "list('dog')"
   ]
  },
  {
   "cell_type": "markdown",
   "metadata": {},
   "source": [
    "<p><a name=\"OMC\"></a></p>\n",
    "## Object Method Calls\n",
    "\n",
    "We saw how we could split a string into a list. Going the other way requires a trick."
   ]
  },
  {
   "cell_type": "code",
   "execution_count": 60,
   "metadata": {},
   "outputs": [
    {
     "data": {
      "text/plain": [
       "'dog'"
      ]
     },
     "execution_count": 60,
     "metadata": {},
     "output_type": "execute_result"
    }
   ],
   "source": [
    "\"\".join(['d','o','g'])"
   ]
  },
  {
   "cell_type": "markdown",
   "metadata": {},
   "source": [
    "- We have already seen the dot notation when calling functions from a module, for exaple: `math.sqrt()`.\n",
    " - Then you might be wondering: why does an empty string have a function?\n",
    "\n",
    "- To answer this question, we need to mention an important fact that Python is an **object-oriented language**. Without delving into details, this means Python takes many useful types of data as **objects**, including strings. Each object is associated with **methods** that can be applied to them.\n",
    " - Essentially a method is a function. A function associated with an object is called a method.\n",
    "\n",
    "- A method is always called by an object it is associated with, and the syntax is:\n",
    " - `object.method(argument1, argument2, ...)`\n",
    "\n",
    "- Therefore, in our previous example:\n",
    " - The empty string `''` is used to call the function `join`.\n",
    " - The method `join` then concatenate the strings in the list passed to it.\n",
    " \n",
    "- Object oriented programming is actually an important feature of Python. We can even create our own objects. We will discuss this advanced topic later in this course."
   ]
  },
  {
   "cell_type": "markdown",
   "metadata": {},
   "source": [
    "<p><a name=\"buildin\"></a></p>\n",
    "## Built-in Strings Operations\n",
    "\n",
    "Python comes with a large set of functions to perform useful operations strings. We will discuss several, for a complete list, see\n",
    "\n",
    "https://docs.python.org/3/library/string.html"
   ]
  },
  {
   "cell_type": "markdown",
   "metadata": {},
   "source": [
    "- **`strip`** removes \"whitespace\" (spaces, tab, newlines,..., etc) from the beginning and the end f a string. Note the usage of object-oriented syntax:"
   ]
  },
  {
   "cell_type": "code",
   "execution_count": null,
   "metadata": {
    "collapsed": true
   },
   "outputs": [],
   "source": [
    "s = '    my dog has fleas    '\n",
    "s.strip()"
   ]
  },
  {
   "cell_type": "markdown",
   "metadata": {},
   "source": [
    "- **`split`** is an extremely useful function that splits a string into a list of strings on the delimeter. By default, the delimeter consists of spaces, tabs `(\\t)`, and newlines `(\\n)`, but the delimeter can be given as an argument."
   ]
  },
  {
   "cell_type": "code",
   "execution_count": null,
   "metadata": {
    "collapsed": true
   },
   "outputs": [],
   "source": [
    "s = 'my dog has fleas'\n",
    "s.split()"
   ]
  },
  {
   "cell_type": "code",
   "execution_count": null,
   "metadata": {
    "collapsed": true
   },
   "outputs": [],
   "source": [
    "s1 = 'my,dog,has,fleas'\n",
    "s1.split(',')"
   ]
  },
  {
   "cell_type": "markdown",
   "metadata": {},
   "source": [
    "- **`join`** concatenate a list of words with intervening occurences of a delimeter. You can take join as the inverse of `split`. For example:"
   ]
  },
  {
   "cell_type": "code",
   "execution_count": null,
   "metadata": {
    "collapsed": true
   },
   "outputs": [],
   "source": [
    "l = ['my','dog','has','fleas']\n",
    "' '.join(l)"
   ]
  },
  {
   "cell_type": "code",
   "execution_count": null,
   "metadata": {
    "collapsed": true
   },
   "outputs": [],
   "source": [
    "', '.join(l)"
   ]
  },
  {
   "cell_type": "markdown",
   "metadata": {},
   "source": [
    "- **`replace`** returns a string with all occurences of one string replaced by another. For example:"
   ]
  },
  {
   "cell_type": "code",
   "execution_count": null,
   "metadata": {
    "collapsed": true
   },
   "outputs": [],
   "source": [
    "s = 'He is my classmate, and he is learning Python'\n",
    "s.replace('is','was')"
   ]
  },
  {
   "cell_type": "markdown",
   "metadata": {},
   "source": [
    "- The object parameter is the string within which replacement takes place and the first parameter is the string to be replaced by the second parameter.\n",
    "- If you only want the first occurence of the string to be replaced, you can pass it to the third argument:"
   ]
  },
  {
   "cell_type": "code",
   "execution_count": null,
   "metadata": {
    "collapsed": true
   },
   "outputs": [],
   "source": [
    "s.replace('is', 'was', 1)"
   ]
  },
  {
   "cell_type": "markdown",
   "metadata": {},
   "source": [
    "- **`find`** returns the lowest index in string `s` where the substring *sub* is found. It returns -1 on failure."
   ]
  },
  {
   "cell_type": "code",
   "execution_count": 62,
   "metadata": {},
   "outputs": [
    {
     "data": {
      "text/plain": [
       "3"
      ]
     },
     "execution_count": 62,
     "metadata": {},
     "output_type": "execute_result"
    }
   ],
   "source": [
    "s = 'my dog has fleas'\n",
    "s.find('dog')"
   ]
  },
  {
   "cell_type": "code",
   "execution_count": 63,
   "metadata": {},
   "outputs": [
    {
     "data": {
      "text/plain": [
       "-1"
      ]
     },
     "execution_count": 63,
     "metadata": {},
     "output_type": "execute_result"
    }
   ],
   "source": [
    "s.find('dogs')"
   ]
  },
  {
   "cell_type": "markdown",
   "metadata": {},
   "source": [
    "If we want to find the substring *sub* within a range we need to specify it:"
   ]
  },
  {
   "cell_type": "code",
   "execution_count": 64,
   "metadata": {},
   "outputs": [
    {
     "data": {
      "text/plain": [
       "8"
      ]
     },
     "execution_count": 64,
     "metadata": {},
     "output_type": "execute_result"
    }
   ],
   "source": [
    "s.find('a')"
   ]
  },
  {
   "cell_type": "code",
   "execution_count": 65,
   "metadata": {},
   "outputs": [
    {
     "data": {
      "text/plain": [
       "14"
      ]
     },
     "execution_count": 65,
     "metadata": {},
     "output_type": "execute_result"
    }
   ],
   "source": [
    "s.find('a', 9)"
   ]
  },
  {
   "cell_type": "markdown",
   "metadata": {},
   "source": [
    "**Hello print()**"
   ]
  },
  {
   "cell_type": "markdown",
   "metadata": {},
   "source": [
    "- The `%` operator is used to create nicely formatted strings from other values. Its syntax is `format_specifier % (tuple of values)`.\n",
    "- `format_specifier` is a string containing special format symbols, which are used to insert values from the tuple:\n",
    "  - `%s` means inserting a string.\n",
    "  - `%d` means inserting an integer.\n",
    "  - `%f` means inserting a float.\n",
    "- To specify the number of decimal places shown with a float place a `.` and number of decimal places between the `%` and the `f`.\n",
    "- The number of format symbol in the format specifier must equal to the number of values in the tuple, and each format symbol must match the type of the corresponding value in the tuple."
   ]
  },
  {
   "cell_type": "code",
   "execution_count": null,
   "metadata": {
    "collapsed": true,
    "scrolled": true
   },
   "outputs": [],
   "source": [
    "print(\"hello, %f!\" % 2017)\n",
    "print(\"hello, %d!\" % 2017)\n",
    "print(\"hello, %.2f!\" % 2017.1314)"
   ]
  },
  {
   "cell_type": "code",
   "execution_count": 61,
   "metadata": {},
   "outputs": [
    {
     "name": "stdout",
     "output_type": "stream",
     "text": [
      "My name is Mike and I am 25 years old\n"
     ]
    }
   ],
   "source": [
    "print('My name is %s and I am %d years old' % ('Mike', 25))"
   ]
  },
  {
   "cell_type": "markdown",
   "metadata": {},
   "source": [
    "The format function is a newer, and more powerful, method to format strings.  Its syntax is different:"
   ]
  },
  {
   "cell_type": "code",
   "execution_count": null,
   "metadata": {
    "collapsed": true
   },
   "outputs": [],
   "source": [
    "print('My name is {0} and I am {1} years old'.format('Mike', 25))"
   ]
  },
  {
   "cell_type": "markdown",
   "metadata": {},
   "source": [
    "You can also give each format specifier an alias and call it in the format function."
   ]
  },
  {
   "cell_type": "code",
   "execution_count": null,
   "metadata": {
    "collapsed": true
   },
   "outputs": [],
   "source": [
    "print('My name is {name} and I am {age} years old'.format(name='Mike', age=25))"
   ]
  },
  {
   "cell_type": "markdown",
   "metadata": {},
   "source": [
    "- For details about format, see https://docs.python.org/3/library/string.html#format-string-syntax\n",
    "\n",
    "- The easiest way to convert an integer or float to a string is to use the built-in str function."
   ]
  },
  {
   "cell_type": "code",
   "execution_count": null,
   "metadata": {
    "collapsed": true
   },
   "outputs": [],
   "source": [
    "str(10.0)"
   ]
  },
  {
   "cell_type": "markdown",
   "metadata": {},
   "source": [
    "<p><a name=\"MinMap\"></a></p>\n",
    "## Method call in `map`\n",
    "\n",
    "- Object notation causes one problem. Suppose we have a method *fun* on strings, and suppose it has no arguments.  \n",
    "- So we apply it to string s by writing: `s.fun()`.\n",
    "\n",
    "- Now suppose we want to apply *fun* to every element of a list of strings. How can we do that?\n",
    "\n",
    " - We can try `map(fun, L)`, but that doesn’t work. \n",
    "\n",
    "- Instead, turn the method into a function:\n",
    "\n",
    " - `lambda s: s.fun()`\n",
    "\n",
    " or\n",
    "\n",
    " - `def newfun(s): return s.fun()`\n",
    "\n",
    "- E.g., here is a way to “`strip`” every string in a list:"
   ]
  },
  {
   "cell_type": "code",
   "execution_count": null,
   "metadata": {
    "collapsed": true
   },
   "outputs": [],
   "source": [
    "lis = [\" abc  \\n\", \" def\", \"ghi   \"]\n",
    "list(map(lambda s: s.strip(), lis))"
   ]
  },
  {
   "cell_type": "markdown",
   "metadata": {},
   "source": [
    "Here is a way to remove the strings that contain the word “No”:"
   ]
  },
  {
   "cell_type": "code",
   "execution_count": 67,
   "metadata": {},
   "outputs": [
    {
     "data": {
      "text/plain": [
       "['Some snow']"
      ]
     },
     "execution_count": 67,
     "metadata": {},
     "output_type": "execute_result"
    }
   ],
   "source": [
    "# Return true if s does *not* contain 'No'\n",
    "def has_no_no(s):\n",
    "    return s.find('No') == -1\n",
    "\n",
    "L = ['No rain', 'Some snow', 'No sleet']\n",
    "list(filter(has_no_no, L))"
   ]
  },
  {
   "cell_type": "markdown",
   "metadata": {},
   "source": [
    "<p><a name=\"case\"></a></p>\n",
    "## Case Conversion\n",
    "\n",
    "Python has provided some built-in functions to do case conversions:"
   ]
  },
  {
   "cell_type": "code",
   "execution_count": null,
   "metadata": {
    "collapsed": true
   },
   "outputs": [],
   "source": [
    "'ABcd'.lower()      # convert to lowercase"
   ]
  },
  {
   "cell_type": "code",
   "execution_count": null,
   "metadata": {
    "collapsed": true
   },
   "outputs": [],
   "source": [
    "'ABcd'.upper()      # convert to uppercase"
   ]
  },
  {
   "cell_type": "code",
   "execution_count": null,
   "metadata": {
    "collapsed": true
   },
   "outputs": [],
   "source": [
    "'ABcd'.swapcase()   # swap case"
   ]
  },
  {
   "cell_type": "code",
   "execution_count": null,
   "metadata": {
    "collapsed": true
   },
   "outputs": [],
   "source": [
    "'aCd acD'.title()   # make first letters uppercase"
   ]
  },
  {
   "cell_type": "markdown",
   "metadata": {},
   "source": [
    "**Exercise 6**\n",
    "\n",
    "- Define function `find_char(s, t)` to find the lowest index of string `t` in each word in `s`:\n",
    "```\n",
    "s = 'today is a nice day'\n",
    "find_char(s, 'i') ---> [-1, 0, -1, 1, -1]\n",
    "```\n",
    "You need to first split the string `s` and then map the `find` function.\n",
    "\n",
    "\n",
    "- Use `filter` to find the strings in a list that do contain No.\n",
    "```\n",
    "L = ['No rain', 'Some snow', 'No sleet']\n",
    "filter(has_no, L) ---> ['No rain', 'No sleet']\n",
    "```"
   ]
  },
  {
   "cell_type": "code",
   "execution_count": null,
   "metadata": {
    "collapsed": true
   },
   "outputs": [],
   "source": [
    "#### Your code here\n",
    "\n",
    "#1\n",
    "def find_char(s, t):\n",
    "    return list(map(find, s.split()))\n",
    "\n",
    "#2\n",
    "\n"
   ]
  },
  {
   "cell_type": "markdown",
   "metadata": {},
   "source": [
    "<p><a name=\"sol\"></a></p>\n",
    "## Solutions"
   ]
  },
  {
   "cell_type": "markdown",
   "metadata": {},
   "source": [
    "**Exercise 1**"
   ]
  },
  {
   "cell_type": "code",
   "execution_count": null,
   "metadata": {
    "collapsed": true
   },
   "outputs": [],
   "source": [
    "import math\n",
    "def area(r):\n",
    "    return math.pi * r**2\n",
    "\n",
    "Area = lambda r: math.pi * r**2"
   ]
  },
  {
   "cell_type": "markdown",
   "metadata": {},
   "source": [
    "**Exercise 2**"
   ]
  },
  {
   "cell_type": "code",
   "execution_count": null,
   "metadata": {
    "collapsed": true
   },
   "outputs": [],
   "source": [
    "def sum2(L):\n",
    "    return L[0] + L[1]\n",
    "\n",
    "Sum2 = lambda L: L[0] + L[1]\n",
    "\n",
    "def double_lis(L):\n",
    "    return L + L\n",
    "\n",
    "Double_lis = lambda L: L + L"
   ]
  },
  {
   "cell_type": "markdown",
   "metadata": {},
   "source": [
    "**Exercise 3**"
   ]
  },
  {
   "cell_type": "code",
   "execution_count": null,
   "metadata": {
    "collapsed": true
   },
   "outputs": [],
   "source": [
    "#1\n",
    "def firstfirst(L):\n",
    "    return L[0][0]\n",
    "\n",
    "Firstfirst = lambda L: L[0][0]\n",
    "\n",
    "#2\n",
    "def subscr2(L, indexes):\n",
    "    return L[indexes[0]][indexes[1]]\n",
    "\n",
    "Subscr2 = lambda L, indexes: L[indexes[0]][indexes[1]]"
   ]
  },
  {
   "cell_type": "markdown",
   "metadata": {},
   "source": [
    "**Exercise 4**"
   ]
  },
  {
   "cell_type": "code",
   "execution_count": null,
   "metadata": {
    "collapsed": true
   },
   "outputs": [],
   "source": [
    "#1\n",
    "def sqr(x):\n",
    "    return x**2\n",
    "def square_all(L):\n",
    "    return list(map(sqr, L))\n",
    "Square_all = lambda L: list(map(sqr, L))\n",
    "\n",
    "#2\n",
    "snd = lambda x: x[1]\n",
    "def get_second(L):\n",
    "    return list(map(snd, L))\n",
    "Get_second = lambda L: list(map(snd, L))\n",
    "\n",
    "#3\n",
    "def tot_length(L):\n",
    "    return sum(map(len, L))\n",
    "Tot_length = lambda L: sum(map(len, L))"
   ]
  },
  {
   "cell_type": "markdown",
   "metadata": {},
   "source": [
    "**Exercise 5**"
   ]
  },
  {
   "cell_type": "code",
   "execution_count": null,
   "metadata": {
    "collapsed": true
   },
   "outputs": [],
   "source": [
    "#1\n",
    "def increase2(L):\n",
    "    return L[0] < L[1]\n",
    "Increase2 = lambda L: L[0] < L[1]\n",
    "\n",
    "#2\n",
    "def increasing_lists(L):\n",
    "    return filter(increase2, L)\n",
    "Increasing_lists = lambda L:  list(filter(increase2, L))"
   ]
  },
  {
   "cell_type": "markdown",
   "metadata": {},
   "source": [
    "**Exercise 6**"
   ]
  },
  {
   "cell_type": "code",
   "execution_count": 66,
   "metadata": {},
   "outputs": [
    {
     "ename": "AttributeError",
     "evalue": "'int' object has no attribute 'find'",
     "output_type": "error",
     "traceback": [
      "\u001b[1;31m---------------------------------------------------------------------------\u001b[0m",
      "\u001b[1;31mAttributeError\u001b[0m                            Traceback (most recent call last)",
      "\u001b[1;32m<ipython-input-66-8c68746a54f9>\u001b[0m in \u001b[0;36m<module>\u001b[1;34m()\u001b[0m\n\u001b[0;32m      8\u001b[0m \u001b[1;31m# 2\u001b[0m\u001b[1;33m\u001b[0m\u001b[1;33m\u001b[0m\u001b[0m\n\u001b[0;32m      9\u001b[0m \u001b[0mhas_no\u001b[0m \u001b[1;33m=\u001b[0m \u001b[1;32mlambda\u001b[0m \u001b[0ms\u001b[0m\u001b[1;33m:\u001b[0m \u001b[0ms\u001b[0m\u001b[1;33m.\u001b[0m\u001b[0mfind\u001b[0m\u001b[1;33m(\u001b[0m\u001b[1;34m'No'\u001b[0m\u001b[1;33m)\u001b[0m \u001b[1;33m!=\u001b[0m \u001b[1;33m-\u001b[0m\u001b[1;36m1\u001b[0m\u001b[1;33m\u001b[0m\u001b[0m\n\u001b[1;32m---> 10\u001b[1;33m \u001b[0mlist\u001b[0m\u001b[1;33m(\u001b[0m\u001b[0mfilter\u001b[0m\u001b[1;33m(\u001b[0m\u001b[0mhas_no\u001b[0m\u001b[1;33m,\u001b[0m \u001b[0mL\u001b[0m\u001b[1;33m)\u001b[0m\u001b[1;33m)\u001b[0m\u001b[1;33m\u001b[0m\u001b[0m\n\u001b[0m",
      "\u001b[1;32m<ipython-input-66-8c68746a54f9>\u001b[0m in \u001b[0;36m<lambda>\u001b[1;34m(s)\u001b[0m\n\u001b[0;32m      7\u001b[0m \u001b[1;33m\u001b[0m\u001b[0m\n\u001b[0;32m      8\u001b[0m \u001b[1;31m# 2\u001b[0m\u001b[1;33m\u001b[0m\u001b[1;33m\u001b[0m\u001b[0m\n\u001b[1;32m----> 9\u001b[1;33m \u001b[0mhas_no\u001b[0m \u001b[1;33m=\u001b[0m \u001b[1;32mlambda\u001b[0m \u001b[0ms\u001b[0m\u001b[1;33m:\u001b[0m \u001b[0ms\u001b[0m\u001b[1;33m.\u001b[0m\u001b[0mfind\u001b[0m\u001b[1;33m(\u001b[0m\u001b[1;34m'No'\u001b[0m\u001b[1;33m)\u001b[0m \u001b[1;33m!=\u001b[0m \u001b[1;33m-\u001b[0m\u001b[1;36m1\u001b[0m\u001b[1;33m\u001b[0m\u001b[0m\n\u001b[0m\u001b[0;32m     10\u001b[0m \u001b[0mlist\u001b[0m\u001b[1;33m(\u001b[0m\u001b[0mfilter\u001b[0m\u001b[1;33m(\u001b[0m\u001b[0mhas_no\u001b[0m\u001b[1;33m,\u001b[0m \u001b[0mL\u001b[0m\u001b[1;33m)\u001b[0m\u001b[1;33m)\u001b[0m\u001b[1;33m\u001b[0m\u001b[0m\n",
      "\u001b[1;31mAttributeError\u001b[0m: 'int' object has no attribute 'find'"
     ]
    }
   ],
   "source": [
    "# 1\n",
    "def find_char(s, t):\n",
    "    return list(map(lambda s: s.find(t), s.split()))\n",
    "\n",
    "s = 'today is a nice day'\n",
    "find_char(s, 'i')\n",
    "\n",
    "# 2\n",
    "has_no = lambda s: s.find('No') != -1\n",
    "list(filter(has_no, L))"
   ]
  }
 ],
 "metadata": {
  "anaconda-cloud": {},
  "kernelspec": {
   "display_name": "Python 3",
   "language": "python",
   "name": "python3"
  },
  "language_info": {
   "codemirror_mode": {
    "name": "ipython",
    "version": 3
   },
   "file_extension": ".py",
   "mimetype": "text/x-python",
   "name": "python",
   "nbconvert_exporter": "python",
   "pygments_lexer": "ipython3",
   "version": "3.7.0"
  }
 },
 "nbformat": 4,
 "nbformat_minor": 1
}
