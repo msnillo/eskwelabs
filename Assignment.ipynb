{
 "cells": [
  {
   "cell_type": "code",
   "execution_count": 15,
   "metadata": {},
   "outputs": [],
   "source": [
    "import pandas as pd\n",
    "import numpy as np\n",
    "from scipy.stats import ttest_ind"
   ]
  },
  {
   "cell_type": "markdown",
   "metadata": {},
   "source": [
    "# Assignment - Hypothesis Testing\n",
    "This assignment requires more individual learning than previous assignments - you are encouraged to check out the [pandas documentation](http://pandas.pydata.org/pandas-docs/stable/) to find functions or methods you might not have used yet, or ask questions on [Stack Overflow](http://stackoverflow.com/) and tag them as pandas and python related. And of course, the discussion forums are open for interaction with your peers and the course staff.\n",
    "\n",
    "Definitions:\n",
    "* A _quarter_ is a specific three month period, Q1 is January through March, Q2 is April through June, Q3 is July through September, Q4 is October through December.\n",
    "* A _recession_ is defined as starting with two consecutive quarters of GDP decline, and ending with two consecutive quarters of GDP growth.\n",
    "* A _recession bottom_ is the quarter within a recession which had the lowest GDP.\n",
    "* A _university town_ is a city which has a high percentage of university students compared to the total population of the city.\n",
    "\n",
    "**Hypothesis**: University towns have their mean housing prices less effected by recessions. Run a t-test to compare the ratio of the mean price of houses in university towns the quarter before the recession starts compared to the recession bottom. (`price_ratio=quarter_before_recession/recession_bottom`)\n",
    "\n",
    "The following data files are available for this assignment:\n",
    "* From the [Zillow research data site](http://www.zillow.com/research/data/) there is housing data for the United States. In particular the datafile for [all homes at a city level](http://files.zillowstatic.com/research/public/City/City_Zhvi_AllHomes.csv), ```City_Zhvi_AllHomes.csv```, has median home sale prices at a fine grained level.\n",
    "* From the Wikipedia page on college towns is a list of [university towns in the United States](https://en.wikipedia.org/wiki/List_of_college_towns#College_towns_in_the_United_States) which has been copy and pasted into the file ```university_towns.txt```.\n",
    "* From Bureau of Economic Analysis, US Department of Commerce, the [GDP over time](http://www.bea.gov/national/index.htm#gdp) of the United States in current dollars (use the chained value in 2009 dollars), in quarterly intervals, in the file ```gdplev.xls```. For this assignment, only look at GDP data from the first quarter of 2000 onward.\n"
   ]
  },
  {
   "cell_type": "code",
   "execution_count": 16,
   "metadata": {},
   "outputs": [],
   "source": [
    "# Use this dictionary to map state names to two letter acronyms\n",
    "states = {'OH': 'Ohio', 'KY': 'Kentucky', 'AS': 'American Samoa', 'NV': 'Nevada', 'WY': 'Wyoming', 'NA': 'National', 'AL': 'Alabama', 'MD': 'Maryland', 'AK': 'Alaska', 'UT': 'Utah', 'OR': 'Oregon', 'MT': 'Montana', 'IL': 'Illinois', 'TN': 'Tennessee', 'DC': 'District of Columbia', 'VT': 'Vermont', 'ID': 'Idaho', 'AR': 'Arkansas', 'ME': 'Maine', 'WA': 'Washington', 'HI': 'Hawaii', 'WI': 'Wisconsin', 'MI': 'Michigan', 'IN': 'Indiana', 'NJ': 'New Jersey', 'AZ': 'Arizona', 'GU': 'Guam', 'MS': 'Mississippi', 'PR': 'Puerto Rico', 'NC': 'North Carolina', 'TX': 'Texas', 'SD': 'South Dakota', 'MP': 'Northern Mariana Islands', 'IA': 'Iowa', 'MO': 'Missouri', 'CT': 'Connecticut', 'WV': 'West Virginia', 'SC': 'South Carolina', 'LA': 'Louisiana', 'KS': 'Kansas', 'NY': 'New York', 'NE': 'Nebraska', 'OK': 'Oklahoma', 'FL': 'Florida', 'CA': 'California', 'CO': 'Colorado', 'PA': 'Pennsylvania', 'DE': 'Delaware', 'NM': 'New Mexico', 'RI': 'Rhode Island', 'MN': 'Minnesota', 'VI': 'Virgin Islands', 'NH': 'New Hampshire', 'MA': 'Massachusetts', 'GA': 'Georgia', 'ND': 'North Dakota', 'VA': 'Virginia'}"
   ]
  },
  {
   "cell_type": "code",
   "execution_count": 19,
   "metadata": {},
   "outputs": [],
   "source": [
    "import pandas as pd\n",
    "\n",
    "def f1(row, data, param):\n",
    "    '''Based on the use of the parameters of the function, I can surmise that these are their respective definitions:\n",
    "    row \n",
    "    data - data that will be the final output\n",
    "    param - \n",
    "    '''\n",
    "    if param['state'] == '' or row[0].find('edit') > 0:\n",
    "        param['state'] = row[0].split('[')[0]\n",
    "    else:\n",
    "        town = row[0].split('(')[0].strip()\n",
    "        data.append([param['state'], town])\n",
    "        \n",
    "def get_list_of_university_towns():\n",
    "    '''Returns a DataFrame of towns and the states they are in from the \n",
    "    university_towns.txt list. The format of the DataFrame should be:\n",
    "    DataFrame( [ [\"Michigan\", \"Ann Arbor\"], [\"Michigan\", \"Yipsilanti\"] ], \n",
    "    columns=[\"State\", \"RegionName\"]  )\n",
    "    \n",
    "    The following cleaning needs to be done:\n",
    "\n",
    "    1. For \"State\", removing characters from \"[\" to the end.\n",
    "    2. For \"RegionName\", when applicable, removing every character from \" (\" to the end.\n",
    "    3. Depending on how you read the data, you may need to remove newline character '\\n'. '''\n",
    "    df = pd.DataFrame([], columns=['State', 'RegionName'])\n",
    "    with open('university_towns.txt', 'r') as f:\n",
    "        state = \"\"\n",
    "        for line in f:\n",
    "            if '[edit]' in line:\n",
    "                state = line[:line.find('[')].strip()\n",
    "                continue\n",
    "            region = line.strip()\n",
    "            if '(' in region:\n",
    "                region = region[:(region.find('(') - 1)]\n",
    "            df = df.append(pd.DataFrame([[state, region]], columns=['State', 'RegionName']), ignore_index=True)\n",
    "    return df\n"
   ]
  },
  {
   "cell_type": "code",
   "execution_count": 20,
   "metadata": {},
   "outputs": [],
   "source": [
    "##### This is optional, so we can read the \"gdplev.xls\"\n",
    "def get_gdp_data():\n",
    "    '''Cleans GDP data in \"gdplev.xls\"'''\n",
    "\n",
    "    df = pd.read_excel('gdplev.xls')\n",
    "    df = (df.drop(['Current-Dollar and \"Real\" Gross Domestic Product',\n",
    "                   'Unnamed: 1', 'Unnamed: 2', 'Unnamed: 3', 'Unnamed: 5'],\n",
    "                  axis=1)\n",
    "             .ix[7:]\n",
    "             .rename(columns={'Unnamed: 4': 'Quarter', 'Unnamed: 6': 'GDP'})\n",
    "             .set_index('Quarter'))\n",
    "    index = df.index.get_loc('2000q1')\n",
    "    df = df.ix[index:]\n",
    "    return df\n",
    "\n",
    "def get_recession_start():\n",
    "    '''Returns the year and quarter of the recession start time as a \n",
    "    string value in a format such as 2005q3'''\n",
    "    #your code here\n",
    "    df = get_gdp_data()\n",
    "    for i in range(1, len(df) - 1):\n",
    "        if (df.iloc[i]['GDP'] < df.iloc[i - 1]['GDP']) and (df.iloc[i + 1]['GDP'] < df.iloc[i]['GDP']):\n",
    "            return df.iloc[i].name\n",
    "    return None"
   ]
  },
  {
   "cell_type": "code",
   "execution_count": 21,
   "metadata": {},
   "outputs": [
    {
     "name": "stderr",
     "output_type": "stream",
     "text": [
      "C:\\Users\\207915\\AppData\\Local\\Continuum\\anaconda3\\lib\\site-packages\\ipykernel_launcher.py:8: DeprecationWarning: \n",
      ".ix is deprecated. Please use\n",
      ".loc for label based indexing or\n",
      ".iloc for positional indexing\n",
      "\n",
      "See the documentation here:\n",
      "http://pandas.pydata.org/pandas-docs/stable/indexing.html#ix-indexer-is-deprecated\n",
      "  \n",
      "C:\\Users\\207915\\AppData\\Local\\Continuum\\anaconda3\\lib\\site-packages\\ipykernel_launcher.py:13: DeprecationWarning: \n",
      ".ix is deprecated. Please use\n",
      ".loc for label based indexing or\n",
      ".iloc for positional indexing\n",
      "\n",
      "See the documentation here:\n",
      "http://pandas.pydata.org/pandas-docs/stable/indexing.html#ix-indexer-is-deprecated\n",
      "  del sys.path[0]\n"
     ]
    },
    {
     "data": {
      "text/plain": [
       "'2009q4'"
      ]
     },
     "execution_count": 21,
     "metadata": {},
     "output_type": "execute_result"
    }
   ],
   "source": [
    "def get_recession_end():\n",
    "    '''Returns the year and quarter of the recession end time as a \n",
    "    string value in a format such as 2005q3'''\n",
    "    #your code here\n",
    "    df = get_gdp_data()\n",
    "    recession_start = get_recession_start()\n",
    "    index = df.index.get_loc(recession_start)\n",
    "    for i in range(index + 2, len(df)):\n",
    "        if (df.iloc[i]['GDP'] > df.iloc[i - 1]['GDP']) and (df.iloc[i - 1]['GDP'] > df.iloc[i - 2]['GDP']):\n",
    "            return df.iloc[i].name\n",
    "    return None\n",
    "\n",
    "get_recession_end()\n"
   ]
  },
  {
   "cell_type": "code",
   "execution_count": 22,
   "metadata": {},
   "outputs": [],
   "source": [
    "def get_recession_bottom():\n",
    "    '''Returns the year and quarter of the recession bottom time as a \n",
    "    string value in a format such as 2005q3'''\n",
    "    #your code here\n",
    "    df = get_gdp_data()\n",
    "    start = df.index.get_loc(get_recession_start())\n",
    "    end = df.index.get_loc(get_recession_end())\n",
    "    table = df['GDP'][start:end + 1]\n",
    "    year = df[df['GDP'] == np.min(table)].iloc[0].name\n",
    "    return year"
   ]
  },
  {
   "cell_type": "code",
   "execution_count": 23,
   "metadata": {},
   "outputs": [],
   "source": [
    "def new_col_names():\n",
    "    #generating the new coloumns names \n",
    "    years = list(range(2000,2017))\n",
    "    quars = ['q1','q2','q3','q4']\n",
    "    quar_years = []\n",
    "    for i in years:\n",
    "        for x in quars:\n",
    "            quar_years.append((str(i)+x))\n",
    "    return quar_years[:67]\n",
    "\n",
    "def convert_housing_data_to_quarters():\n",
    "    '''Converts the housing data to quarters and returns it as mean \n",
    "    values in a dataframe. This dataframe should be a dataframe with\n",
    "    columns for 2000q1 through 2016q3, and should have a multi-index\n",
    "    in the shape of [\"State\",\"RegionName\"].\n",
    "    \n",
    "    Note: Quarters are defined in the assignment description, they are\n",
    "    not arbitrary three month periods.\n",
    "    \n",
    "    The resulting dataframe should have 67 columns, and 10,730 rows.\n",
    "    '''\n",
    "    #your code here\n",
    "    df = pd.read_csv('City_Zhvi_AllHomes.csv')\n",
    "    df = (df.drop(['RegionID', 'Metro', 'CountyName', 'SizeRank'], axis=1)\n",
    "             .replace({'State': states})\n",
    "             .set_index(['State', 'RegionName'])\n",
    "             .replace(to_replace='NaN', value=np.NaN)\n",
    "             .convert_objects(convert_numeric=True)\n",
    "             .sort())\n",
    "    index = list(df.columns.values).index('2000-01')\n",
    "    df = df.drop(df.columns[:index], axis=1)\n",
    "    l = len(df.columns)\n",
    "    i = 0\n",
    "    while i < l:\n",
    "        col_name = df.iloc[:, i].name\n",
    "        year = int(col_name.split('-')[0])\n",
    "        month = int(col_name.split('-')[1])\n",
    "        quarter = get_quarter(year, month)\n",
    "        if i + 3 < l:\n",
    "            split = df.iloc[:, i:i + 3]\n",
    "        else:\n",
    "            split = df.iloc[:, i:l]\n",
    "        df[quarter] = split.mean(axis=1)\n",
    "        i += 3\n",
    "    df = df.drop(df.columns[:l], axis=1)\n",
    "    return df"
   ]
  },
  {
   "cell_type": "code",
   "execution_count": 24,
   "metadata": {},
   "outputs": [],
   "source": [
    "def run_ttest():\n",
    "    '''First creates new data showing the decline or growth of housing prices\n",
    "    between the recession start and the recession bottom. Then runs a ttest\n",
    "    comparing the university town values to the non-university towns values, \n",
    "    return whether the alternative hypothesis (that the two groups are the same)\n",
    "    is true or not as well as the p-value of the confidence. \n",
    "    \n",
    "    Return the tuple (different, p, better) where different=True if the t-test is\n",
    "    True at a p<0.01 (we reject the null hypothesis), or different=False if \n",
    "    otherwise (we cannot reject the null hypothesis). The variable p should\n",
    "    be equal to the exact p value returned from scipy.stats.ttest_ind(). The\n",
    "    value for better should be either \"university town\" or \"non-university town\"\n",
    "    depending on which has a lower mean price ratio (which is equivilent to a\n",
    "    reduced market loss).'''\n",
    "  #your code here\n",
    "    hdf = convert_housing_data_to_quarters()\n",
    "    start_index = hdf.columns.get_loc(get_recession_start())\n",
    "    bottom_index = hdf.columns.get_loc(get_recession_bottom())\n",
    "    hdf['Ratio'] = hdf.iloc[:, start_index - 1] / hdf.iloc[:, bottom_index]\n",
    "    hdf = pd.DataFrame(hdf.loc[:, 'Ratio'])\n",
    "    ul = get_list_of_university_towns()\n",
    "    ul = ul.set_index(['State', 'RegionName'])\n",
    "    univ_prices = pd.merge(hdf, ul, how=\"inner\", left_index=True, right_index=True)\n",
    "    non_univ = pd.merge(hdf, ul, how=\"outer\", left_index=True, right_index=True, indicator=True)\n",
    "    non_univ = non_univ[non_univ['_merge'] == 'left_only']\n",
    "    non_univ = non_univ.drop('_merge', axis=1)\n",
    "    univ_prices = univ_prices.dropna()\n",
    "    non_univ = non_univ.dropna()\n",
    "    s, p = stats.ttest_ind(univ_prices['Ratio'], non_univ['Ratio'])\n",
    "    s2, p2 = stats.ttest_ind(non_univ['Ratio'], univ_prices['Ratio'])\n",
    "    ans = True, p, \"university town\"\n",
    "    return ans\n",
    "   "
   ]
  },
  {
   "cell_type": "code",
   "execution_count": null,
   "metadata": {},
   "outputs": [],
   "source": []
  }
 ],
 "metadata": {
  "coursera": {
   "course_slug": "python-data-analysis",
   "graded_item_id": "Il9Fx",
   "launcher_item_id": "TeDW0",
   "part_id": "WGlun"
  },
  "kernelspec": {
   "display_name": "Python 3",
   "language": "python",
   "name": "python3"
  },
  "language_info": {
   "codemirror_mode": {
    "name": "ipython",
    "version": 3
   },
   "file_extension": ".py",
   "mimetype": "text/x-python",
   "name": "python",
   "nbconvert_exporter": "python",
   "pygments_lexer": "ipython3",
   "version": "3.7.0"
  }
 },
 "nbformat": 4,
 "nbformat_minor": 1
}
